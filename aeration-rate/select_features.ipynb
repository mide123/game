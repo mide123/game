{
 "cells": [
  {
   "cell_type": "code",
   "execution_count": 56,
   "metadata": {
    "collapsed": true
   },
   "outputs": [],
   "source": [
    "import pandas as pd\n",
    "import numpy as np"
   ]
  },
  {
   "cell_type": "code",
   "execution_count": 57,
   "outputs": [],
   "source": [
    "data = pd.read_csv(\"./data/train_dataset.csv\")\n",
    "\n",
    "data['is_test'] = False\n",
    "evaluation = pd.read_csv(\"./data/evaluation_public.csv\")\n",
    "evaluation['is_test'] = True\n",
    "sample = pd.read_csv(\"./data/sample_submission.csv\")\n",
    "\n",
    "all_data = pd.concat([data, evaluation]).reset_index(drop=True)"
   ],
   "metadata": {
    "collapsed": false,
    "pycharm": {
     "name": "#%%\n"
    }
   }
  },
  {
   "cell_type": "markdown",
   "source": [
    "# 特征处理"
   ],
   "metadata": {
    "collapsed": false,
    "pycharm": {
     "name": "#%% md\n"
    }
   }
  },
  {
   "cell_type": "code",
   "execution_count": 58,
   "outputs": [],
   "source": [
    "all_data['date'] = pd.to_datetime(all_data['time'])\n",
    "all_data['hour'] = all_data['date'].dt.hour\n",
    "all_data['year'] = all_data['date'].dt.year\n",
    "all_data['month'] = all_data['date'].dt.month\n",
    "all_data['minute'] = all_data['date'].dt.minute\n",
    "all_data['weekday'] = all_data['date'].dt.weekday\n",
    "all_data['day'] = all_data['date'].dt.day\n",
    "all_data['hour'] = all_data['date'].dt.hour\n",
    "all_data['ts'] = all_data['hour']*3600 + all_data['minute']*60 + all_data['date'].dt.second"
   ],
   "metadata": {
    "collapsed": false,
    "pycharm": {
     "name": "#%%\n"
    }
   }
  },
  {
   "cell_type": "code",
   "execution_count": 59,
   "outputs": [
    {
     "data": {
      "text/plain": "26"
     },
     "execution_count": 59,
     "metadata": {},
     "output_type": "execute_result"
    }
   ],
   "source": [
    "import gc\n",
    "features = [ 'JS_NH3', 'CS_NH3', 'JS_TN', 'CS_TN', 'JS_LL', 'CS_LL', 'MCCS_NH4', 'MCCS_NO3', 'JS_COD', 'CS_COD', 'JS_SW', 'CS_SW', 'B_HYC_NH4', 'B_HYC_XD', 'B_HYC_MLSS', 'B_HYC_JS_DO', 'B_HYC_DO', 'B_CS_MQ_SSLL', 'B_QY_ORP', 'N_HYC_NH4', 'N_HYC_XD', 'N_HYC_MLSS', 'N_HYC_JS_DO', 'N_HYC_DO', 'N_CS_MQ_SSLL', 'N_QY_ORP','weekday','hour', 'ts']\n",
    "\n",
    "# N_HYC_JS_DO\n",
    "filter_set = {'time', 'Label1', 'Label2','CS_LL','CS_NH3', 'JS_SW', 'B_QY_ORP'}\n",
    "features = [f for f in features if f not in filter_set] #\n",
    "for f in features:\n",
    "    all_data[f] = all_data[f].fillna(method='ffill')\n",
    "\n",
    "labels = ['Label1', 'Label2']\n",
    "train = all_data[~all_data['is_test']].copy(deep=True)\n",
    "test = all_data[all_data['is_test']].copy(deep=True)\n",
    "# train = train.dropna(subset=['Label1', 'Label2']).reset_index(drop=True)\n",
    "test['is_train'] = False\n",
    "train['is_train'] = True\n",
    "data = pd.concat([train, test]).reset_index(drop=True)\n",
    "\n",
    "del all_data,train, test\n",
    "gc.collect()"
   ],
   "metadata": {
    "collapsed": false,
    "pycharm": {
     "name": "#%%\n"
    }
   }
  },
  {
   "cell_type": "markdown",
   "source": [
    "# 通过训练找出在训练集和测试集中差别很大的样本"
   ],
   "metadata": {
    "collapsed": false,
    "pycharm": {
     "name": "#%% md\n"
    }
   }
  },
  {
   "cell_type": "code",
   "execution_count": 60,
   "outputs": [],
   "source": [
    "from sklearn.model_selection import train_test_split\n",
    "for f in features:\n",
    "    if f not in ['weekday','hour', 'ts']:\n",
    "        q = len(data[f].drop_duplicates())\n",
    "        data[f] = pd.qcut(data[f], q=int(q/500), labels=False, duplicates=\"drop\")\n",
    "data['is_test'] = data['is_test'].apply(lambda x: 1 if x  else 0)"
   ],
   "metadata": {
    "collapsed": false,
    "pycharm": {
     "name": "#%%\n"
    }
   }
  },
  {
   "cell_type": "code",
   "execution_count": 61,
   "outputs": [
    {
     "data": {
      "text/plain": "              JS_NH3         CS_NH3          JS_TN          CS_TN  \\\ncount  150480.000000  123432.000000  150480.000000  150480.000000   \nmean        3.430323       0.041165       2.998212       2.931918   \nstd         2.230066       0.065458       2.000081       2.080676   \nmin         0.000000       0.001100       0.000000       0.000000   \n25%         1.000000       0.013300       1.000000       1.000000   \n50%         3.000000       0.035100       3.000000       3.000000   \n75%         5.000000       0.056500       5.000000       5.000000   \nmax         7.000000       1.495900       6.000000       6.000000   \n\n               JS_LL          CS_LL       MCCS_NH4       MCCS_NO3  \\\ncount  150480.000000  130970.000000  150480.000000  150480.000000   \nmean      114.172488    1249.096494       1.499415       4.959204   \nstd        64.459570     873.108749       1.117776       3.130447   \nmin         0.000000   -3447.026900       0.000000       0.000000   \n25%        64.000000     849.855700       0.000000       2.000000   \n50%       106.500000    1326.369300       1.000000       5.000000   \n75%       168.000000    1801.756300       2.000000       7.000000   \nmax       232.000000    3414.167000       3.000000      10.000000   \n\n              JS_COD  CS_COD  ...        Label1        Label2        is_test  \\\ncount  150480.000000     0.0  ...  35068.000000  35068.000000  150480.000000   \nmean        1.998664     NaN  ...  13745.474316  11816.071793       0.066454   \nstd         1.414680     NaN  ...   4717.251176   3664.571351       0.249075   \nmin         0.000000     NaN  ...    814.490000    719.710000       0.000000   \n25%         1.000000     NaN  ...  10498.402500   9269.437500       0.000000   \n50%         2.000000     NaN  ...  13071.830000  11159.960000       0.000000   \n75%         3.000000     NaN  ...  15359.617500  13203.822500       0.000000   \nmax         4.000000     NaN  ...  66326.050000  49464.130000       1.000000   \n\n               hour      year          month        minute        weekday  \\\ncount  150480.00000  150480.0  150480.000000  150480.00000  150480.000000   \nmean       11.50000    2022.0       4.062201      29.00000       3.014354   \nstd         6.92221       0.0       1.985831      17.31094       1.993965   \nmin         0.00000    2022.0       1.000000       0.00000       0.000000   \n25%         5.75000    2022.0       2.000000      14.00000       1.000000   \n50%        11.50000    2022.0       4.000000      29.00000       3.000000   \n75%        17.25000    2022.0       6.000000      44.00000       5.000000   \nmax        23.00000    2022.0       7.000000      58.00000       6.000000   \n\n                 day             ts  \ncount  150480.000000  150480.000000  \nmean       15.856459   43140.000000  \nstd         8.674275   24941.590446  \nmin         1.000000       0.000000  \n25%         8.000000   21570.000000  \n50%        16.000000   43140.000000  \n75%        23.000000   64710.000000  \nmax        31.000000   86280.000000  \n\n[8 rows x 36 columns]",
      "text/html": "<div>\n<style scoped>\n    .dataframe tbody tr th:only-of-type {\n        vertical-align: middle;\n    }\n\n    .dataframe tbody tr th {\n        vertical-align: top;\n    }\n\n    .dataframe thead th {\n        text-align: right;\n    }\n</style>\n<table border=\"1\" class=\"dataframe\">\n  <thead>\n    <tr style=\"text-align: right;\">\n      <th></th>\n      <th>JS_NH3</th>\n      <th>CS_NH3</th>\n      <th>JS_TN</th>\n      <th>CS_TN</th>\n      <th>JS_LL</th>\n      <th>CS_LL</th>\n      <th>MCCS_NH4</th>\n      <th>MCCS_NO3</th>\n      <th>JS_COD</th>\n      <th>CS_COD</th>\n      <th>...</th>\n      <th>Label1</th>\n      <th>Label2</th>\n      <th>is_test</th>\n      <th>hour</th>\n      <th>year</th>\n      <th>month</th>\n      <th>minute</th>\n      <th>weekday</th>\n      <th>day</th>\n      <th>ts</th>\n    </tr>\n  </thead>\n  <tbody>\n    <tr>\n      <th>count</th>\n      <td>150480.000000</td>\n      <td>123432.000000</td>\n      <td>150480.000000</td>\n      <td>150480.000000</td>\n      <td>150480.000000</td>\n      <td>130970.000000</td>\n      <td>150480.000000</td>\n      <td>150480.000000</td>\n      <td>150480.000000</td>\n      <td>0.0</td>\n      <td>...</td>\n      <td>35068.000000</td>\n      <td>35068.000000</td>\n      <td>150480.000000</td>\n      <td>150480.00000</td>\n      <td>150480.0</td>\n      <td>150480.000000</td>\n      <td>150480.00000</td>\n      <td>150480.000000</td>\n      <td>150480.000000</td>\n      <td>150480.000000</td>\n    </tr>\n    <tr>\n      <th>mean</th>\n      <td>3.430323</td>\n      <td>0.041165</td>\n      <td>2.998212</td>\n      <td>2.931918</td>\n      <td>114.172488</td>\n      <td>1249.096494</td>\n      <td>1.499415</td>\n      <td>4.959204</td>\n      <td>1.998664</td>\n      <td>NaN</td>\n      <td>...</td>\n      <td>13745.474316</td>\n      <td>11816.071793</td>\n      <td>0.066454</td>\n      <td>11.50000</td>\n      <td>2022.0</td>\n      <td>4.062201</td>\n      <td>29.00000</td>\n      <td>3.014354</td>\n      <td>15.856459</td>\n      <td>43140.000000</td>\n    </tr>\n    <tr>\n      <th>std</th>\n      <td>2.230066</td>\n      <td>0.065458</td>\n      <td>2.000081</td>\n      <td>2.080676</td>\n      <td>64.459570</td>\n      <td>873.108749</td>\n      <td>1.117776</td>\n      <td>3.130447</td>\n      <td>1.414680</td>\n      <td>NaN</td>\n      <td>...</td>\n      <td>4717.251176</td>\n      <td>3664.571351</td>\n      <td>0.249075</td>\n      <td>6.92221</td>\n      <td>0.0</td>\n      <td>1.985831</td>\n      <td>17.31094</td>\n      <td>1.993965</td>\n      <td>8.674275</td>\n      <td>24941.590446</td>\n    </tr>\n    <tr>\n      <th>min</th>\n      <td>0.000000</td>\n      <td>0.001100</td>\n      <td>0.000000</td>\n      <td>0.000000</td>\n      <td>0.000000</td>\n      <td>-3447.026900</td>\n      <td>0.000000</td>\n      <td>0.000000</td>\n      <td>0.000000</td>\n      <td>NaN</td>\n      <td>...</td>\n      <td>814.490000</td>\n      <td>719.710000</td>\n      <td>0.000000</td>\n      <td>0.00000</td>\n      <td>2022.0</td>\n      <td>1.000000</td>\n      <td>0.00000</td>\n      <td>0.000000</td>\n      <td>1.000000</td>\n      <td>0.000000</td>\n    </tr>\n    <tr>\n      <th>25%</th>\n      <td>1.000000</td>\n      <td>0.013300</td>\n      <td>1.000000</td>\n      <td>1.000000</td>\n      <td>64.000000</td>\n      <td>849.855700</td>\n      <td>0.000000</td>\n      <td>2.000000</td>\n      <td>1.000000</td>\n      <td>NaN</td>\n      <td>...</td>\n      <td>10498.402500</td>\n      <td>9269.437500</td>\n      <td>0.000000</td>\n      <td>5.75000</td>\n      <td>2022.0</td>\n      <td>2.000000</td>\n      <td>14.00000</td>\n      <td>1.000000</td>\n      <td>8.000000</td>\n      <td>21570.000000</td>\n    </tr>\n    <tr>\n      <th>50%</th>\n      <td>3.000000</td>\n      <td>0.035100</td>\n      <td>3.000000</td>\n      <td>3.000000</td>\n      <td>106.500000</td>\n      <td>1326.369300</td>\n      <td>1.000000</td>\n      <td>5.000000</td>\n      <td>2.000000</td>\n      <td>NaN</td>\n      <td>...</td>\n      <td>13071.830000</td>\n      <td>11159.960000</td>\n      <td>0.000000</td>\n      <td>11.50000</td>\n      <td>2022.0</td>\n      <td>4.000000</td>\n      <td>29.00000</td>\n      <td>3.000000</td>\n      <td>16.000000</td>\n      <td>43140.000000</td>\n    </tr>\n    <tr>\n      <th>75%</th>\n      <td>5.000000</td>\n      <td>0.056500</td>\n      <td>5.000000</td>\n      <td>5.000000</td>\n      <td>168.000000</td>\n      <td>1801.756300</td>\n      <td>2.000000</td>\n      <td>7.000000</td>\n      <td>3.000000</td>\n      <td>NaN</td>\n      <td>...</td>\n      <td>15359.617500</td>\n      <td>13203.822500</td>\n      <td>0.000000</td>\n      <td>17.25000</td>\n      <td>2022.0</td>\n      <td>6.000000</td>\n      <td>44.00000</td>\n      <td>5.000000</td>\n      <td>23.000000</td>\n      <td>64710.000000</td>\n    </tr>\n    <tr>\n      <th>max</th>\n      <td>7.000000</td>\n      <td>1.495900</td>\n      <td>6.000000</td>\n      <td>6.000000</td>\n      <td>232.000000</td>\n      <td>3414.167000</td>\n      <td>3.000000</td>\n      <td>10.000000</td>\n      <td>4.000000</td>\n      <td>NaN</td>\n      <td>...</td>\n      <td>66326.050000</td>\n      <td>49464.130000</td>\n      <td>1.000000</td>\n      <td>23.00000</td>\n      <td>2022.0</td>\n      <td>7.000000</td>\n      <td>58.00000</td>\n      <td>6.000000</td>\n      <td>31.000000</td>\n      <td>86280.000000</td>\n    </tr>\n  </tbody>\n</table>\n<p>8 rows × 36 columns</p>\n</div>"
     },
     "execution_count": 61,
     "metadata": {},
     "output_type": "execute_result"
    }
   ],
   "source": [
    "data.describe()"
   ],
   "metadata": {
    "collapsed": false,
    "pycharm": {
     "name": "#%%\n"
    }
   }
  },
  {
   "cell_type": "code",
   "execution_count": 65,
   "outputs": [
    {
     "name": "stdout",
     "output_type": "stream",
     "text": [
      "Training until validation scores don't improve for 20 rounds\n",
      "[200]\ttraining's auc: 0.999313\ttraining's binary_logloss: 0.0917317\tvalid_1's auc: 0.999286\tvalid_1's binary_logloss: 0.0913485\n",
      "[400]\ttraining's auc: 0.99961\ttraining's binary_logloss: 0.0516857\tvalid_1's auc: 0.999601\tvalid_1's binary_logloss: 0.0515993\n",
      "Did not meet early stopping. Best iteration is:\n",
      "[500]\ttraining's auc: 0.999695\ttraining's binary_logloss: 0.0411222\tvalid_1's auc: 0.999696\tvalid_1's binary_logloss: 0.0410786\n"
     ]
    }
   ],
   "source": [
    "import lightgbm as lgb\n",
    "use_features = features\n",
    "filter_set = {'time', 'Label1', 'Label2','CS_LL','CS_NH3', 'JS_SW', 'B_QY_ORP', 'CS_SW',\n",
    "              'CS_COD'}\n",
    "use_features = [f for f in use_features if f not in filter_set] #\n",
    "X_train, X_test, y_train, y_test  = train_test_split(data[use_features], data['is_test'], test_size=0.2)\n",
    "model = lgb.LGBMClassifier(\n",
    "        boosting=\"gbdt\",\n",
    "        max_depth=4,\n",
    "        learning_rate=0.005,\n",
    "        n_estimators=500,\n",
    "        min_child_weight=1,\n",
    "        min_data_in_leaf=60,\n",
    "        subsample = 0.7,\n",
    "        feature_fraction=0.4,\n",
    "        bagging_seed=1,\n",
    "        reg_alpha=0.11,\n",
    "        reg_lambda=0.1,  # 此处不改了\n",
    "        min_sum_hessian_in_leaf=0.01,\n",
    "        random_state=1212\n",
    "    )\n",
    "model.fit(X_train, y_train, eval_set=[(X_train, y_train), (X_test, y_test)], eval_metric=['auc'],\n",
    "          early_stopping_rounds=20, verbose=200)\n",
    "df = pd.DataFrame()\n",
    "df['score'] = model.feature_importances_\n",
    "df['features']= use_features\n",
    "df.sort_values(by=['score'], ascending=False, inplace=True, ignore_index=True)"
   ],
   "metadata": {
    "collapsed": false,
    "pycharm": {
     "name": "#%%\n"
    }
   }
  },
  {
   "cell_type": "code",
   "execution_count": 66,
   "outputs": [
    {
     "data": {
      "text/plain": "    score      features\n0     609   N_HYC_JS_DO\n1     577   B_HYC_JS_DO\n2     564      MCCS_NO3\n3     542      MCCS_NH4\n4     518      N_HYC_XD\n5     496      B_HYC_XD\n6     439    N_HYC_MLSS\n7     369       weekday\n8     344         JS_TN\n9     310    B_HYC_MLSS\n10    305         JS_LL\n11    298      N_HYC_DO\n12    267            ts\n13    253      N_QY_ORP\n14    218     N_HYC_NH4\n15    169        JS_NH3\n16    165          hour\n17    120      B_HYC_DO\n18    117        JS_COD\n19     97         CS_TN\n20      0  B_CS_MQ_SSLL\n21      0     B_HYC_NH4\n22      0  N_CS_MQ_SSLL",
      "text/html": "<div>\n<style scoped>\n    .dataframe tbody tr th:only-of-type {\n        vertical-align: middle;\n    }\n\n    .dataframe tbody tr th {\n        vertical-align: top;\n    }\n\n    .dataframe thead th {\n        text-align: right;\n    }\n</style>\n<table border=\"1\" class=\"dataframe\">\n  <thead>\n    <tr style=\"text-align: right;\">\n      <th></th>\n      <th>score</th>\n      <th>features</th>\n    </tr>\n  </thead>\n  <tbody>\n    <tr>\n      <th>0</th>\n      <td>609</td>\n      <td>N_HYC_JS_DO</td>\n    </tr>\n    <tr>\n      <th>1</th>\n      <td>577</td>\n      <td>B_HYC_JS_DO</td>\n    </tr>\n    <tr>\n      <th>2</th>\n      <td>564</td>\n      <td>MCCS_NO3</td>\n    </tr>\n    <tr>\n      <th>3</th>\n      <td>542</td>\n      <td>MCCS_NH4</td>\n    </tr>\n    <tr>\n      <th>4</th>\n      <td>518</td>\n      <td>N_HYC_XD</td>\n    </tr>\n    <tr>\n      <th>5</th>\n      <td>496</td>\n      <td>B_HYC_XD</td>\n    </tr>\n    <tr>\n      <th>6</th>\n      <td>439</td>\n      <td>N_HYC_MLSS</td>\n    </tr>\n    <tr>\n      <th>7</th>\n      <td>369</td>\n      <td>weekday</td>\n    </tr>\n    <tr>\n      <th>8</th>\n      <td>344</td>\n      <td>JS_TN</td>\n    </tr>\n    <tr>\n      <th>9</th>\n      <td>310</td>\n      <td>B_HYC_MLSS</td>\n    </tr>\n    <tr>\n      <th>10</th>\n      <td>305</td>\n      <td>JS_LL</td>\n    </tr>\n    <tr>\n      <th>11</th>\n      <td>298</td>\n      <td>N_HYC_DO</td>\n    </tr>\n    <tr>\n      <th>12</th>\n      <td>267</td>\n      <td>ts</td>\n    </tr>\n    <tr>\n      <th>13</th>\n      <td>253</td>\n      <td>N_QY_ORP</td>\n    </tr>\n    <tr>\n      <th>14</th>\n      <td>218</td>\n      <td>N_HYC_NH4</td>\n    </tr>\n    <tr>\n      <th>15</th>\n      <td>169</td>\n      <td>JS_NH3</td>\n    </tr>\n    <tr>\n      <th>16</th>\n      <td>165</td>\n      <td>hour</td>\n    </tr>\n    <tr>\n      <th>17</th>\n      <td>120</td>\n      <td>B_HYC_DO</td>\n    </tr>\n    <tr>\n      <th>18</th>\n      <td>117</td>\n      <td>JS_COD</td>\n    </tr>\n    <tr>\n      <th>19</th>\n      <td>97</td>\n      <td>CS_TN</td>\n    </tr>\n    <tr>\n      <th>20</th>\n      <td>0</td>\n      <td>B_CS_MQ_SSLL</td>\n    </tr>\n    <tr>\n      <th>21</th>\n      <td>0</td>\n      <td>B_HYC_NH4</td>\n    </tr>\n    <tr>\n      <th>22</th>\n      <td>0</td>\n      <td>N_CS_MQ_SSLL</td>\n    </tr>\n  </tbody>\n</table>\n</div>"
     },
     "execution_count": 66,
     "metadata": {},
     "output_type": "execute_result"
    }
   ],
   "source": [
    "df"
   ],
   "metadata": {
    "collapsed": false,
    "pycharm": {
     "name": "#%%\n"
    }
   }
  },
  {
   "cell_type": "code",
   "execution_count": 64,
   "outputs": [],
   "source": [
    "# import lightgbm as lgb\n",
    "# features_list = [ 'JS_NH3', 'CS_NH3', 'JS_TN', 'CS_TN', 'JS_LL', 'MCCS_NH4', 'MCCS_NO3', 'JS_COD', 'CS_COD', 'JS_SW', 'CS_SW', 'B_HYC_NH4', 'B_HYC_XD', 'B_HYC_MLSS', 'B_HYC_JS_DO', 'B_HYC_DO', 'B_CS_MQ_SSLL', 'B_QY_ORP', 'N_HYC_NH4', 'N_HYC_XD', 'N_HYC_MLSS', 'N_HYC_JS_DO', 'N_HYC_DO', 'N_CS_MQ_SSLL']\n",
    "#\n",
    "# feature_score_dict = {}\n",
    "# for i in range(len(features_list)-1):\n",
    "#     for j in range(i+1, len(features_list)):\n",
    "#         features_filter = ['ts', 'weekday', features_list[i], features_list[j]]\n",
    "#         X_train, X_test, y_train, y_test  = train_test_split(data_v2[features_filter], data_v2['is_test'], test_size=0.2)\n",
    "#         model = lgb.LGBMClassifier(\n",
    "#                 boosting=\"gbdt\",\n",
    "#                 max_depth=4,\n",
    "#                 learning_rate=0.005,\n",
    "#                 n_estimators=500,\n",
    "#                 min_child_weight=1,\n",
    "#                 min_data_in_leaf=60,\n",
    "#                 subsample = 0.7,\n",
    "#                 feature_fraction=0.4,\n",
    "#                 bagging_seed=1,\n",
    "#                 reg_alpha=0.11,\n",
    "#                 reg_lambda=0.1,  # 此处不改了\n",
    "#                 min_sum_hessian_in_leaf=0.01,\n",
    "#                 random_state=1212\n",
    "#             )\n",
    "#         model.fit(X_train, y_train, eval_set=[(X_train, y_train), (X_test, y_test)], eval_metric=['auc'],\n",
    "#                   early_stopping_rounds=20, verbose=200)\n",
    "#         feature_score_dict[f'{features_list[i]}_{features_list[j]}_score'] = model.best_score_['valid_1']['auc']\n",
    "#\n"
   ],
   "metadata": {
    "collapsed": false,
    "pycharm": {
     "name": "#%%\n"
    }
   }
  },
  {
   "cell_type": "code",
   "execution_count": 64,
   "outputs": [],
   "source": [],
   "metadata": {
    "collapsed": false,
    "pycharm": {
     "name": "#%%\n"
    }
   }
  }
 ],
 "metadata": {
  "kernelspec": {
   "display_name": "Python 3",
   "language": "python",
   "name": "python3"
  },
  "language_info": {
   "codemirror_mode": {
    "name": "ipython",
    "version": 2
   },
   "file_extension": ".py",
   "mimetype": "text/x-python",
   "name": "python",
   "nbconvert_exporter": "python",
   "pygments_lexer": "ipython2",
   "version": "2.7.6"
  }
 },
 "nbformat": 4,
 "nbformat_minor": 0
}