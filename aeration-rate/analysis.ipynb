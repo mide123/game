{
 "cells": [
  {
   "cell_type": "code",
   "execution_count": 54,
   "metadata": {
    "collapsed": true
   },
   "outputs": [],
   "source": [
    "import pandas as pd\n",
    "import numpy as np"
   ]
  },
  {
   "cell_type": "code",
   "execution_count": 55,
   "outputs": [],
   "source": [
    "data = pd.read_csv(\"./data/train_dataset.csv\")\n",
    "\n",
    "data['is_test'] = False\n",
    "evaluation = pd.read_csv(\"./data/evaluation_public.csv\")\n",
    "evaluation['is_test'] = True\n",
    "sample = pd.read_csv(\"./data/sample_submission.csv\")\n",
    "\n",
    "all_data = pd.concat([data, evaluation]).reset_index(drop=True)"
   ],
   "metadata": {
    "collapsed": false,
    "pycharm": {
     "name": "#%%\n"
    }
   }
  },
  {
   "cell_type": "markdown",
   "source": [
    "# 特征处理"
   ],
   "metadata": {
    "collapsed": false,
    "pycharm": {
     "name": "#%% md\n"
    }
   }
  },
  {
   "cell_type": "code",
   "execution_count": 56,
   "outputs": [],
   "source": [
    "all_data['date'] = pd.to_datetime(all_data['time'])\n",
    "all_data['hour'] = all_data['date'].dt.hour\n",
    "all_data['year'] = all_data['date'].dt.year\n",
    "all_data['month'] = all_data['date'].dt.month\n",
    "all_data['day'] = all_data['date'].dt.day"
   ],
   "metadata": {
    "collapsed": false,
    "pycharm": {
     "name": "#%%\n"
    }
   }
  },
  {
   "cell_type": "code",
   "execution_count": 57,
   "outputs": [],
   "source": [
    "\n",
    "features = ['year','month','day','hour', 'JS_NH3', 'CS_NH3', 'JS_TN', 'CS_TN', 'JS_LL', 'CS_LL', 'MCCS_NH4', 'MCCS_NO3', 'JS_COD', 'CS_COD', 'JS_SW', 'CS_SW', 'B_HYC_NH4', 'B_HYC_XD', 'B_HYC_MLSS', 'B_HYC_JS_DO', 'B_HYC_DO', 'B_CS_MQ_SSLL', 'B_QY_ORP', 'N_HYC_NH4', 'N_HYC_XD', 'N_HYC_MLSS', 'N_HYC_JS_DO', 'N_HYC_DO', 'N_CS_MQ_SSLL', 'N_QY_ORP']\n",
    "labels = ['Label1', 'Label2']"
   ],
   "metadata": {
    "collapsed": false,
    "pycharm": {
     "name": "#%%\n"
    }
   }
  },
  {
   "cell_type": "code",
   "execution_count": 58,
   "outputs": [],
   "source": [
    "train = all_data[~all_data['is_test']].copy(deep=True)  # .fillna(-1)\n",
    "test = all_data[all_data['is_test']].copy(deep=True)  # .fillna(-1)"
   ],
   "metadata": {
    "collapsed": false,
    "pycharm": {
     "name": "#%%\n"
    }
   }
  },
  {
   "cell_type": "code",
   "execution_count": 59,
   "outputs": [
    {
     "data": {
      "text/plain": "115412"
     },
     "execution_count": 59,
     "metadata": {},
     "output_type": "execute_result"
    }
   ],
   "source": [
    "np.sum(all_data[labels[0]].isna())"
   ],
   "metadata": {
    "collapsed": false,
    "pycharm": {
     "name": "#%%\n"
    }
   }
  },
  {
   "cell_type": "code",
   "execution_count": 64,
   "outputs": [
    {
     "name": "stdout",
     "output_type": "stream",
     "text": [
      "140480\n",
      "Training until validation scores don't improve for 150 rounds\n",
      "[200]\ttraining's l1: 4370.8\ttraining's l2: 3.05616e+07\tvalid_1's l1: 4374.76\tvalid_1's l2: 3.05835e+07\n",
      "[400]\ttraining's l1: 3723.32\ttraining's l2: 2.31919e+07\tvalid_1's l1: 3729.56\tvalid_1's l2: 2.32611e+07\n",
      "[600]\ttraining's l1: 3181.54\ttraining's l2: 1.79252e+07\tvalid_1's l1: 3189.93\tvalid_1's l2: 1.80253e+07\n",
      "[800]\ttraining's l1: 2730.98\ttraining's l2: 1.41426e+07\tvalid_1's l1: 2741.01\tvalid_1's l2: 1.42601e+07\n",
      "[1000]\ttraining's l1: 2353.94\ttraining's l2: 1.13745e+07\tvalid_1's l1: 2365.25\tvalid_1's l2: 1.14968e+07\n",
      "[1200]\ttraining's l1: 2037.44\ttraining's l2: 9.33413e+06\tvalid_1's l1: 2050.36\tvalid_1's l2: 9.46165e+06\n",
      "[1400]\ttraining's l1: 1770.66\ttraining's l2: 7.78991e+06\tvalid_1's l1: 1785.29\tvalid_1's l2: 7.92713e+06\n",
      "[1600]\ttraining's l1: 1549.51\ttraining's l2: 6.63062e+06\tvalid_1's l1: 1566.06\tvalid_1's l2: 6.77063e+06\n",
      "[1800]\ttraining's l1: 1372.02\ttraining's l2: 5.77106e+06\tvalid_1's l1: 1390.32\tvalid_1's l2: 5.91407e+06\n",
      "[2000]\ttraining's l1: 1228.48\ttraining's l2: 5.10559e+06\tvalid_1's l1: 1248.55\tvalid_1's l2: 5.25722e+06\n",
      "[2200]\ttraining's l1: 1110.92\ttraining's l2: 4.5853e+06\tvalid_1's l1: 1132.54\tvalid_1's l2: 4.74599e+06\n",
      "[2400]\ttraining's l1: 1015.91\ttraining's l2: 4.17254e+06\tvalid_1's l1: 1038.76\tvalid_1's l2: 4.34461e+06\n",
      "[2600]\ttraining's l1: 937.473\ttraining's l2: 3.83403e+06\tvalid_1's l1: 961.509\tvalid_1's l2: 4.01609e+06\n",
      "[2800]\ttraining's l1: 871.408\ttraining's l2: 3.54853e+06\tvalid_1's l1: 896.745\tvalid_1's l2: 3.73969e+06\n",
      "[3000]\ttraining's l1: 817.799\ttraining's l2: 3.31964e+06\tvalid_1's l1: 844.516\tvalid_1's l2: 3.52019e+06\n",
      "[3200]\ttraining's l1: 776.015\ttraining's l2: 3.14317e+06\tvalid_1's l1: 804.02\tvalid_1's l2: 3.35336e+06\n",
      "[3400]\ttraining's l1: 739.769\ttraining's l2: 2.98763e+06\tvalid_1's l1: 769.024\tvalid_1's l2: 3.20595e+06\n",
      "[3600]\ttraining's l1: 708.685\ttraining's l2: 2.8533e+06\tvalid_1's l1: 739.255\tvalid_1's l2: 3.08163e+06\n",
      "[3800]\ttraining's l1: 684.849\ttraining's l2: 2.7479e+06\tvalid_1's l1: 716.726\tvalid_1's l2: 2.98922e+06\n",
      "[4000]\ttraining's l1: 663.766\ttraining's l2: 2.65095e+06\tvalid_1's l1: 696.833\tvalid_1's l2: 2.90297e+06\n",
      "[4200]\ttraining's l1: 643.1\ttraining's l2: 2.55482e+06\tvalid_1's l1: 677.171\tvalid_1's l2: 2.81281e+06\n",
      "[4400]\ttraining's l1: 625.234\ttraining's l2: 2.46643e+06\tvalid_1's l1: 660.33\tvalid_1's l2: 2.73224e+06\n",
      "[4600]\ttraining's l1: 611.894\ttraining's l2: 2.40469e+06\tvalid_1's l1: 648.097\tvalid_1's l2: 2.67955e+06\n",
      "[4800]\ttraining's l1: 600.499\ttraining's l2: 2.34826e+06\tvalid_1's l1: 637.951\tvalid_1's l2: 2.63187e+06\n",
      "[5000]\ttraining's l1: 589.774\ttraining's l2: 2.2869e+06\tvalid_1's l1: 628.6\tvalid_1's l2: 2.58092e+06\n",
      "[5200]\ttraining's l1: 579.125\ttraining's l2: 2.22826e+06\tvalid_1's l1: 619.287\tvalid_1's l2: 2.53178e+06\n",
      "[5400]\ttraining's l1: 569.56\ttraining's l2: 2.17427e+06\tvalid_1's l1: 611.054\tvalid_1's l2: 2.48721e+06\n",
      "[5600]\ttraining's l1: 560.594\ttraining's l2: 2.12095e+06\tvalid_1's l1: 603.363\tvalid_1's l2: 2.44266e+06\n",
      "[5800]\ttraining's l1: 552.418\ttraining's l2: 2.07142e+06\tvalid_1's l1: 596.36\tvalid_1's l2: 2.40072e+06\n",
      "[6000]\ttraining's l1: 544.62\ttraining's l2: 2.02254e+06\tvalid_1's l1: 589.757\tvalid_1's l2: 2.35895e+06\n",
      "[6200]\ttraining's l1: 537.586\ttraining's l2: 1.97885e+06\tvalid_1's l1: 583.707\tvalid_1's l2: 2.32037e+06\n",
      "[6400]\ttraining's l1: 530.655\ttraining's l2: 1.93438e+06\tvalid_1's l1: 577.725\tvalid_1's l2: 2.28071e+06\n",
      "[6600]\ttraining's l1: 524.723\ttraining's l2: 1.89398e+06\tvalid_1's l1: 572.789\tvalid_1's l2: 2.24571e+06\n",
      "[6800]\ttraining's l1: 519.499\ttraining's l2: 1.85738e+06\tvalid_1's l1: 568.47\tvalid_1's l2: 2.21349e+06\n",
      "[7000]\ttraining's l1: 514.664\ttraining's l2: 1.82279e+06\tvalid_1's l1: 564.489\tvalid_1's l2: 2.1836e+06\n",
      "[7200]\ttraining's l1: 509.925\ttraining's l2: 1.78905e+06\tvalid_1's l1: 560.61\tvalid_1's l2: 2.15466e+06\n",
      "[7400]\ttraining's l1: 505.885\ttraining's l2: 1.75744e+06\tvalid_1's l1: 557.321\tvalid_1's l2: 2.12739e+06\n",
      "[7600]\ttraining's l1: 501.994\ttraining's l2: 1.72684e+06\tvalid_1's l1: 554.142\tvalid_1's l2: 2.10151e+06\n",
      "[7800]\ttraining's l1: 498.543\ttraining's l2: 1.70081e+06\tvalid_1's l1: 551.397\tvalid_1's l2: 2.07923e+06\n",
      "[8000]\ttraining's l1: 495.036\ttraining's l2: 1.67626e+06\tvalid_1's l1: 548.557\tvalid_1's l2: 2.0578e+06\n",
      "[8200]\ttraining's l1: 491.434\ttraining's l2: 1.64961e+06\tvalid_1's l1: 545.663\tvalid_1's l2: 2.03454e+06\n",
      "[8400]\ttraining's l1: 487.561\ttraining's l2: 1.62336e+06\tvalid_1's l1: 542.529\tvalid_1's l2: 2.01119e+06\n",
      "[8600]\ttraining's l1: 483.46\ttraining's l2: 1.59662e+06\tvalid_1's l1: 539.163\tvalid_1's l2: 1.98699e+06\n",
      "[8800]\ttraining's l1: 479.403\ttraining's l2: 1.5704e+06\tvalid_1's l1: 535.927\tvalid_1's l2: 1.96472e+06\n",
      "[9000]\ttraining's l1: 476.182\ttraining's l2: 1.54777e+06\tvalid_1's l1: 533.472\tvalid_1's l2: 1.94681e+06\n",
      "[9200]\ttraining's l1: 472.698\ttraining's l2: 1.52456e+06\tvalid_1's l1: 530.752\tvalid_1's l2: 1.92752e+06\n",
      "[9400]\ttraining's l1: 469.243\ttraining's l2: 1.50165e+06\tvalid_1's l1: 528.09\tvalid_1's l2: 1.90868e+06\n",
      "[9600]\ttraining's l1: 465.87\ttraining's l2: 1.47821e+06\tvalid_1's l1: 525.466\tvalid_1's l2: 1.88898e+06\n",
      "[9800]\ttraining's l1: 462.797\ttraining's l2: 1.45677e+06\tvalid_1's l1: 523.064\tvalid_1's l2: 1.87095e+06\n",
      "[10000]\ttraining's l1: 460.002\ttraining's l2: 1.43709e+06\tvalid_1's l1: 520.954\tvalid_1's l2: 1.85475e+06\n",
      "[10200]\ttraining's l1: 457.378\ttraining's l2: 1.41989e+06\tvalid_1's l1: 519.074\tvalid_1's l2: 1.84153e+06\n",
      "[10400]\ttraining's l1: 454.8\ttraining's l2: 1.40389e+06\tvalid_1's l1: 517.183\tvalid_1's l2: 1.82871e+06\n",
      "[10600]\ttraining's l1: 452.071\ttraining's l2: 1.38649e+06\tvalid_1's l1: 515.169\tvalid_1's l2: 1.81484e+06\n",
      "[10800]\ttraining's l1: 449.344\ttraining's l2: 1.36771e+06\tvalid_1's l1: 513.107\tvalid_1's l2: 1.79945e+06\n",
      "[11000]\ttraining's l1: 447.05\ttraining's l2: 1.35111e+06\tvalid_1's l1: 511.454\tvalid_1's l2: 1.78673e+06\n",
      "[11200]\ttraining's l1: 444.728\ttraining's l2: 1.33518e+06\tvalid_1's l1: 509.797\tvalid_1's l2: 1.77408e+06\n",
      "[11400]\ttraining's l1: 442.541\ttraining's l2: 1.3196e+06\tvalid_1's l1: 508.219\tvalid_1's l2: 1.7616e+06\n",
      "[11600]\ttraining's l1: 440.159\ttraining's l2: 1.30389e+06\tvalid_1's l1: 506.43\tvalid_1's l2: 1.74849e+06\n",
      "[11800]\ttraining's l1: 437.958\ttraining's l2: 1.28881e+06\tvalid_1's l1: 504.828\tvalid_1's l2: 1.73628e+06\n",
      "[12000]\ttraining's l1: 435.607\ttraining's l2: 1.27379e+06\tvalid_1's l1: 503.08\tvalid_1's l2: 1.724e+06\n",
      "[12200]\ttraining's l1: 433.355\ttraining's l2: 1.25977e+06\tvalid_1's l1: 501.423\tvalid_1's l2: 1.71264e+06\n",
      "[12400]\ttraining's l1: 431.13\ttraining's l2: 1.24665e+06\tvalid_1's l1: 499.791\tvalid_1's l2: 1.7022e+06\n",
      "[12600]\ttraining's l1: 428.862\ttraining's l2: 1.23353e+06\tvalid_1's l1: 498.139\tvalid_1's l2: 1.69168e+06\n",
      "[12800]\ttraining's l1: 426.628\ttraining's l2: 1.22044e+06\tvalid_1's l1: 496.463\tvalid_1's l2: 1.68087e+06\n",
      "[13000]\ttraining's l1: 424.457\ttraining's l2: 1.20793e+06\tvalid_1's l1: 494.872\tvalid_1's l2: 1.67079e+06\n",
      "[13200]\ttraining's l1: 422.23\ttraining's l2: 1.1951e+06\tvalid_1's l1: 493.218\tvalid_1's l2: 1.66022e+06\n",
      "[13400]\ttraining's l1: 419.978\ttraining's l2: 1.18248e+06\tvalid_1's l1: 491.525\tvalid_1's l2: 1.64997e+06\n",
      "[13600]\ttraining's l1: 417.885\ttraining's l2: 1.16978e+06\tvalid_1's l1: 489.999\tvalid_1's l2: 1.63991e+06\n",
      "[13800]\ttraining's l1: 415.854\ttraining's l2: 1.15821e+06\tvalid_1's l1: 488.553\tvalid_1's l2: 1.63089e+06\n",
      "[14000]\ttraining's l1: 413.929\ttraining's l2: 1.14725e+06\tvalid_1's l1: 487.176\tvalid_1's l2: 1.62219e+06\n",
      "[14200]\ttraining's l1: 412.026\ttraining's l2: 1.13616e+06\tvalid_1's l1: 485.792\tvalid_1's l2: 1.61347e+06\n",
      "[14400]\ttraining's l1: 410.077\ttraining's l2: 1.12456e+06\tvalid_1's l1: 484.383\tvalid_1's l2: 1.60454e+06\n",
      "[14600]\ttraining's l1: 408.03\ttraining's l2: 1.11272e+06\tvalid_1's l1: 482.878\tvalid_1's l2: 1.59518e+06\n",
      "[14800]\ttraining's l1: 406.059\ttraining's l2: 1.10122e+06\tvalid_1's l1: 481.435\tvalid_1's l2: 1.58644e+06\n",
      "[15000]\ttraining's l1: 404.231\ttraining's l2: 1.09059e+06\tvalid_1's l1: 480.097\tvalid_1's l2: 1.57836e+06\n",
      "[15200]\ttraining's l1: 402.415\ttraining's l2: 1.08031e+06\tvalid_1's l1: 478.77\tvalid_1's l2: 1.57037e+06\n",
      "[15400]\ttraining's l1: 400.641\ttraining's l2: 1.07031e+06\tvalid_1's l1: 477.514\tvalid_1's l2: 1.5627e+06\n",
      "[15600]\ttraining's l1: 399.012\ttraining's l2: 1.06048e+06\tvalid_1's l1: 476.394\tvalid_1's l2: 1.55556e+06\n",
      "[15800]\ttraining's l1: 397.644\ttraining's l2: 1.05175e+06\tvalid_1's l1: 475.51\tvalid_1's l2: 1.5495e+06\n",
      "[16000]\ttraining's l1: 396.225\ttraining's l2: 1.04357e+06\tvalid_1's l1: 474.555\tvalid_1's l2: 1.54363e+06\n",
      "[16200]\ttraining's l1: 394.964\ttraining's l2: 1.03576e+06\tvalid_1's l1: 473.796\tvalid_1's l2: 1.53833e+06\n",
      "[16400]\ttraining's l1: 393.43\ttraining's l2: 1.02745e+06\tvalid_1's l1: 472.787\tvalid_1's l2: 1.53249e+06\n",
      "[16600]\ttraining's l1: 391.91\ttraining's l2: 1.0186e+06\tvalid_1's l1: 471.815\tvalid_1's l2: 1.52653e+06\n",
      "[16800]\ttraining's l1: 390.405\ttraining's l2: 1.00913e+06\tvalid_1's l1: 470.85\tvalid_1's l2: 1.51998e+06\n",
      "[17000]\ttraining's l1: 389.007\ttraining's l2: 1.00061e+06\tvalid_1's l1: 469.988\tvalid_1's l2: 1.51413e+06\n",
      "[17200]\ttraining's l1: 387.584\ttraining's l2: 992122\tvalid_1's l1: 469.075\tvalid_1's l2: 1.50816e+06\n",
      "[17400]\ttraining's l1: 386.152\ttraining's l2: 983561\tvalid_1's l1: 468.146\tvalid_1's l2: 1.5026e+06\n",
      "[17600]\ttraining's l1: 384.864\ttraining's l2: 975469\tvalid_1's l1: 467.34\tvalid_1's l2: 1.49735e+06\n",
      "[17800]\ttraining's l1: 383.486\ttraining's l2: 967386\tvalid_1's l1: 466.455\tvalid_1's l2: 1.49185e+06\n",
      "[18000]\ttraining's l1: 382.167\ttraining's l2: 959417\tvalid_1's l1: 465.653\tvalid_1's l2: 1.48643e+06\n",
      "[18200]\ttraining's l1: 380.878\ttraining's l2: 951266\tvalid_1's l1: 464.906\tvalid_1's l2: 1.48112e+06\n",
      "[18400]\ttraining's l1: 379.919\ttraining's l2: 944513\tvalid_1's l1: 464.438\tvalid_1's l2: 1.47714e+06\n",
      "[18600]\ttraining's l1: 378.876\ttraining's l2: 937790\tvalid_1's l1: 463.898\tvalid_1's l2: 1.47318e+06\n",
      "[18800]\ttraining's l1: 377.807\ttraining's l2: 931095\tvalid_1's l1: 463.296\tvalid_1's l2: 1.46874e+06\n",
      "[19000]\ttraining's l1: 376.688\ttraining's l2: 923899\tvalid_1's l1: 462.665\tvalid_1's l2: 1.46415e+06\n",
      "[19200]\ttraining's l1: 375.641\ttraining's l2: 917066\tvalid_1's l1: 462.101\tvalid_1's l2: 1.45969e+06\n",
      "[19400]\ttraining's l1: 374.787\ttraining's l2: 910878\tvalid_1's l1: 461.672\tvalid_1's l2: 1.45621e+06\n",
      "[19600]\ttraining's l1: 373.908\ttraining's l2: 904827\tvalid_1's l1: 461.249\tvalid_1's l2: 1.45293e+06\n",
      "[19800]\ttraining's l1: 372.937\ttraining's l2: 898930\tvalid_1's l1: 460.738\tvalid_1's l2: 1.4493e+06\n",
      "[20000]\ttraining's l1: 371.892\ttraining's l2: 893021\tvalid_1's l1: 460.167\tvalid_1's l2: 1.44572e+06\n",
      "Did not meet early stopping. Best iteration is:\n",
      "[20000]\ttraining's l1: 371.892\ttraining's l2: 893021\tvalid_1's l1: 460.167\tvalid_1's l2: 1.44572e+06\n",
      "140480\n",
      "[LightGBM] [Warning] boosting is set=gbdt, boosting_type=gbdt will be ignored. Current value: boosting=gbdt\n",
      "[LightGBM] [Warning] feature_fraction is set=0.7, colsample_bytree=1.0 will be ignored. Current value: feature_fraction=0.7\n",
      "[LightGBM] [Warning] min_data_in_leaf is set=40, min_child_samples=20 will be ignored. Current value: min_data_in_leaf=40\n",
      "[LightGBM] [Warning] min_sum_hessian_in_leaf is set=0.01, min_child_weight=1 will be ignored. Current value: min_sum_hessian_in_leaf=0.01\n",
      "Training until validation scores don't improve for 150 rounds\n",
      "[200]\ttraining's l1: 3756.01\ttraining's l2: 2.1874e+07\tvalid_1's l1: 3760.61\tvalid_1's l2: 2.19464e+07\n",
      "[400]\ttraining's l1: 3195.68\ttraining's l2: 1.64721e+07\tvalid_1's l1: 3202.15\tvalid_1's l2: 1.65719e+07\n",
      "[600]\ttraining's l1: 2730.03\ttraining's l2: 1.26644e+07\tvalid_1's l1: 2738\tvalid_1's l2: 1.27796e+07\n",
      "[800]\ttraining's l1: 2341.39\ttraining's l2: 9.92794e+06\tvalid_1's l1: 2350.71\tvalid_1's l2: 1.00518e+07\n",
      "[1000]\ttraining's l1: 2014.12\ttraining's l2: 7.92387e+06\tvalid_1's l1: 2024.73\tvalid_1's l2: 8.05539e+06\n",
      "[1200]\ttraining's l1: 1742.03\ttraining's l2: 6.47461e+06\tvalid_1's l1: 1754.06\tvalid_1's l2: 6.61211e+06\n",
      "[1400]\ttraining's l1: 1512.95\ttraining's l2: 5.38487e+06\tvalid_1's l1: 1526.21\tvalid_1's l2: 5.52528e+06\n",
      "[1600]\ttraining's l1: 1326.53\ttraining's l2: 4.58601e+06\tvalid_1's l1: 1341.55\tvalid_1's l2: 4.73089e+06\n",
      "[1800]\ttraining's l1: 1172.76\ttraining's l2: 3.96005e+06\tvalid_1's l1: 1189.26\tvalid_1's l2: 4.10759e+06\n",
      "[2000]\ttraining's l1: 1040.94\ttraining's l2: 3.44676e+06\tvalid_1's l1: 1058.7\tvalid_1's l2: 3.59826e+06\n",
      "[2200]\ttraining's l1: 937.226\ttraining's l2: 3.0671e+06\tvalid_1's l1: 955.583\tvalid_1's l2: 3.22202e+06\n",
      "[2400]\ttraining's l1: 854.561\ttraining's l2: 2.77159e+06\tvalid_1's l1: 873.616\tvalid_1's l2: 2.92951e+06\n",
      "[2600]\ttraining's l1: 788.106\ttraining's l2: 2.53617e+06\tvalid_1's l1: 807.857\tvalid_1's l2: 2.69642e+06\n",
      "[2800]\ttraining's l1: 734.31\ttraining's l2: 2.35323e+06\tvalid_1's l1: 754.773\tvalid_1's l2: 2.51724e+06\n",
      "[3000]\ttraining's l1: 689.854\ttraining's l2: 2.20278e+06\tvalid_1's l1: 711.174\tvalid_1's l2: 2.37143e+06\n",
      "[3200]\ttraining's l1: 652.28\ttraining's l2: 2.07264e+06\tvalid_1's l1: 674.579\tvalid_1's l2: 2.24723e+06\n",
      "[3400]\ttraining's l1: 618.726\ttraining's l2: 1.94977e+06\tvalid_1's l1: 642.104\tvalid_1's l2: 2.13019e+06\n",
      "[3600]\ttraining's l1: 588.867\ttraining's l2: 1.83587e+06\tvalid_1's l1: 613.258\tvalid_1's l2: 2.02183e+06\n",
      "[3800]\ttraining's l1: 565.032\ttraining's l2: 1.74821e+06\tvalid_1's l1: 590.334\tvalid_1's l2: 1.93839e+06\n",
      "[4000]\ttraining's l1: 542.222\ttraining's l2: 1.65587e+06\tvalid_1's l1: 568.591\tvalid_1's l2: 1.85034e+06\n",
      "[4200]\ttraining's l1: 523.274\ttraining's l2: 1.58084e+06\tvalid_1's l1: 550.709\tvalid_1's l2: 1.77839e+06\n",
      "[4400]\ttraining's l1: 507.593\ttraining's l2: 1.52275e+06\tvalid_1's l1: 535.996\tvalid_1's l2: 1.72332e+06\n",
      "[4600]\ttraining's l1: 495.179\ttraining's l2: 1.47614e+06\tvalid_1's l1: 524.467\tvalid_1's l2: 1.6803e+06\n",
      "[4800]\ttraining's l1: 484.798\ttraining's l2: 1.43673e+06\tvalid_1's l1: 514.836\tvalid_1's l2: 1.64296e+06\n",
      "[5000]\ttraining's l1: 476.24\ttraining's l2: 1.40365e+06\tvalid_1's l1: 507.17\tvalid_1's l2: 1.6126e+06\n",
      "[5200]\ttraining's l1: 468.97\ttraining's l2: 1.37432e+06\tvalid_1's l1: 500.599\tvalid_1's l2: 1.58568e+06\n",
      "[5400]\ttraining's l1: 461.367\ttraining's l2: 1.34159e+06\tvalid_1's l1: 493.695\tvalid_1's l2: 1.55641e+06\n",
      "[5600]\ttraining's l1: 453.984\ttraining's l2: 1.31016e+06\tvalid_1's l1: 487.075\tvalid_1's l2: 1.52863e+06\n",
      "[5800]\ttraining's l1: 446.554\ttraining's l2: 1.27887e+06\tvalid_1's l1: 480.397\tvalid_1's l2: 1.50073e+06\n",
      "[6000]\ttraining's l1: 440.104\ttraining's l2: 1.24994e+06\tvalid_1's l1: 474.722\tvalid_1's l2: 1.4755e+06\n",
      "[6200]\ttraining's l1: 434.061\ttraining's l2: 1.2214e+06\tvalid_1's l1: 469.348\tvalid_1's l2: 1.4495e+06\n",
      "[6400]\ttraining's l1: 429.006\ttraining's l2: 1.19595e+06\tvalid_1's l1: 464.922\tvalid_1's l2: 1.42647e+06\n",
      "[6600]\ttraining's l1: 424.175\ttraining's l2: 1.17143e+06\tvalid_1's l1: 460.675\tvalid_1's l2: 1.40434e+06\n",
      "[6800]\ttraining's l1: 419.781\ttraining's l2: 1.14881e+06\tvalid_1's l1: 456.884\tvalid_1's l2: 1.38379e+06\n",
      "[7000]\ttraining's l1: 415.569\ttraining's l2: 1.12686e+06\tvalid_1's l1: 453.216\tvalid_1's l2: 1.3638e+06\n",
      "[7200]\ttraining's l1: 411.605\ttraining's l2: 1.10626e+06\tvalid_1's l1: 449.828\tvalid_1's l2: 1.34579e+06\n",
      "[7400]\ttraining's l1: 407.767\ttraining's l2: 1.08652e+06\tvalid_1's l1: 446.537\tvalid_1's l2: 1.32867e+06\n",
      "[7600]\ttraining's l1: 404.509\ttraining's l2: 1.06894e+06\tvalid_1's l1: 443.862\tvalid_1's l2: 1.31365e+06\n",
      "[7800]\ttraining's l1: 401.564\ttraining's l2: 1.05279e+06\tvalid_1's l1: 441.482\tvalid_1's l2: 1.29997e+06\n",
      "[8000]\ttraining's l1: 398.68\ttraining's l2: 1.03731e+06\tvalid_1's l1: 439.145\tvalid_1's l2: 1.28697e+06\n",
      "[8200]\ttraining's l1: 395.791\ttraining's l2: 1.02232e+06\tvalid_1's l1: 436.865\tvalid_1's l2: 1.27465e+06\n",
      "[8400]\ttraining's l1: 393.083\ttraining's l2: 1.00823e+06\tvalid_1's l1: 434.785\tvalid_1's l2: 1.26355e+06\n",
      "[8600]\ttraining's l1: 390.309\ttraining's l2: 993581\tvalid_1's l1: 432.613\tvalid_1's l2: 1.25199e+06\n",
      "[8800]\ttraining's l1: 387.95\ttraining's l2: 980666\tvalid_1's l1: 430.801\tvalid_1's l2: 1.24193e+06\n",
      "[9000]\ttraining's l1: 385.496\ttraining's l2: 967227\tvalid_1's l1: 428.905\tvalid_1's l2: 1.23116e+06\n",
      "[9200]\ttraining's l1: 383.194\ttraining's l2: 954531\tvalid_1's l1: 427.166\tvalid_1's l2: 1.22127e+06\n",
      "[9400]\ttraining's l1: 380.838\ttraining's l2: 942047\tvalid_1's l1: 425.356\tvalid_1's l2: 1.21105e+06\n",
      "[9600]\ttraining's l1: 378.79\ttraining's l2: 931135\tvalid_1's l1: 423.837\tvalid_1's l2: 1.20208e+06\n",
      "[9800]\ttraining's l1: 376.653\ttraining's l2: 920038\tvalid_1's l1: 422.222\tvalid_1's l2: 1.19313e+06\n",
      "[10000]\ttraining's l1: 374.718\ttraining's l2: 910044\tvalid_1's l1: 420.765\tvalid_1's l2: 1.18508e+06\n",
      "[10200]\ttraining's l1: 372.447\ttraining's l2: 898512\tvalid_1's l1: 418.97\tvalid_1's l2: 1.17545e+06\n",
      "[10400]\ttraining's l1: 370.429\ttraining's l2: 888436\tvalid_1's l1: 417.424\tvalid_1's l2: 1.16725e+06\n",
      "[10600]\ttraining's l1: 368.126\ttraining's l2: 877123\tvalid_1's l1: 415.627\tvalid_1's l2: 1.15791e+06\n",
      "[10800]\ttraining's l1: 365.511\ttraining's l2: 864670\tvalid_1's l1: 413.544\tvalid_1's l2: 1.14757e+06\n",
      "[11000]\ttraining's l1: 363.25\ttraining's l2: 854116\tvalid_1's l1: 411.819\tvalid_1's l2: 1.13917e+06\n",
      "[11200]\ttraining's l1: 361.168\ttraining's l2: 843970\tvalid_1's l1: 410.239\tvalid_1's l2: 1.13094e+06\n",
      "[11400]\ttraining's l1: 359.282\ttraining's l2: 834639\tvalid_1's l1: 408.847\tvalid_1's l2: 1.12347e+06\n",
      "[11600]\ttraining's l1: 357.582\ttraining's l2: 825973\tvalid_1's l1: 407.662\tvalid_1's l2: 1.11664e+06\n",
      "[11800]\ttraining's l1: 355.834\ttraining's l2: 817248\tvalid_1's l1: 406.419\tvalid_1's l2: 1.10964e+06\n",
      "[12000]\ttraining's l1: 354.14\ttraining's l2: 808800\tvalid_1's l1: 405.209\tvalid_1's l2: 1.10277e+06\n",
      "[12200]\ttraining's l1: 352.46\ttraining's l2: 800531\tvalid_1's l1: 404.049\tvalid_1's l2: 1.09624e+06\n",
      "[12400]\ttraining's l1: 350.947\ttraining's l2: 792909\tvalid_1's l1: 403.025\tvalid_1's l2: 1.09027e+06\n",
      "[12600]\ttraining's l1: 349.319\ttraining's l2: 785010\tvalid_1's l1: 401.872\tvalid_1's l2: 1.08383e+06\n",
      "[12800]\ttraining's l1: 347.881\ttraining's l2: 777632\tvalid_1's l1: 400.907\tvalid_1's l2: 1.07806e+06\n",
      "[13000]\ttraining's l1: 346.646\ttraining's l2: 770893\tvalid_1's l1: 400.117\tvalid_1's l2: 1.07293e+06\n",
      "[13200]\ttraining's l1: 345.436\ttraining's l2: 764382\tvalid_1's l1: 399.338\tvalid_1's l2: 1.06825e+06\n",
      "[13400]\ttraining's l1: 344.175\ttraining's l2: 758016\tvalid_1's l1: 398.504\tvalid_1's l2: 1.06347e+06\n",
      "[13600]\ttraining's l1: 342.977\ttraining's l2: 752025\tvalid_1's l1: 397.723\tvalid_1's l2: 1.059e+06\n",
      "[13800]\ttraining's l1: 341.636\ttraining's l2: 745423\tvalid_1's l1: 396.849\tvalid_1's l2: 1.05413e+06\n",
      "[14000]\ttraining's l1: 340.376\ttraining's l2: 739237\tvalid_1's l1: 396.017\tvalid_1's l2: 1.04949e+06\n",
      "[14200]\ttraining's l1: 339.276\ttraining's l2: 733555\tvalid_1's l1: 395.32\tvalid_1's l2: 1.0456e+06\n",
      "[14400]\ttraining's l1: 338.08\ttraining's l2: 727712\tvalid_1's l1: 394.56\tvalid_1's l2: 1.0416e+06\n",
      "[14600]\ttraining's l1: 336.795\ttraining's l2: 721754\tvalid_1's l1: 393.717\tvalid_1's l2: 1.03749e+06\n",
      "[14800]\ttraining's l1: 335.684\ttraining's l2: 716044\tvalid_1's l1: 393.03\tvalid_1's l2: 1.03376e+06\n",
      "[15000]\ttraining's l1: 334.531\ttraining's l2: 709767\tvalid_1's l1: 392.278\tvalid_1's l2: 1.02942e+06\n",
      "[15200]\ttraining's l1: 333.374\ttraining's l2: 703908\tvalid_1's l1: 391.559\tvalid_1's l2: 1.02532e+06\n",
      "[15400]\ttraining's l1: 332.298\ttraining's l2: 698450\tvalid_1's l1: 390.922\tvalid_1's l2: 1.02174e+06\n",
      "[15600]\ttraining's l1: 331.2\ttraining's l2: 692873\tvalid_1's l1: 390.254\tvalid_1's l2: 1.01793e+06\n",
      "[15800]\ttraining's l1: 330.044\ttraining's l2: 687242\tvalid_1's l1: 389.542\tvalid_1's l2: 1.01405e+06\n",
      "[16000]\ttraining's l1: 328.873\ttraining's l2: 681604\tvalid_1's l1: 388.785\tvalid_1's l2: 1.0101e+06\n",
      "[16200]\ttraining's l1: 327.724\ttraining's l2: 676077\tvalid_1's l1: 388.041\tvalid_1's l2: 1.00623e+06\n",
      "[16400]\ttraining's l1: 326.594\ttraining's l2: 670865\tvalid_1's l1: 387.345\tvalid_1's l2: 1.00274e+06\n",
      "[16600]\ttraining's l1: 325.437\ttraining's l2: 665800\tvalid_1's l1: 386.619\tvalid_1's l2: 999337\n",
      "[16800]\ttraining's l1: 324.325\ttraining's l2: 660352\tvalid_1's l1: 385.938\tvalid_1's l2: 995819\n",
      "[17000]\ttraining's l1: 323.181\ttraining's l2: 654932\tvalid_1's l1: 385.262\tvalid_1's l2: 992533\n",
      "[17200]\ttraining's l1: 322.071\ttraining's l2: 649610\tvalid_1's l1: 384.579\tvalid_1's l2: 988841\n",
      "[17400]\ttraining's l1: 320.932\ttraining's l2: 644148\tvalid_1's l1: 383.877\tvalid_1's l2: 984976\n",
      "[17600]\ttraining's l1: 319.838\ttraining's l2: 639059\tvalid_1's l1: 383.25\tvalid_1's l2: 981583\n",
      "[17800]\ttraining's l1: 318.702\ttraining's l2: 633894\tvalid_1's l1: 382.531\tvalid_1's l2: 977866\n",
      "[18000]\ttraining's l1: 317.617\ttraining's l2: 629146\tvalid_1's l1: 381.871\tvalid_1's l2: 974670\n",
      "[18200]\ttraining's l1: 316.517\ttraining's l2: 624646\tvalid_1's l1: 381.203\tvalid_1's l2: 971636\n",
      "[18400]\ttraining's l1: 315.427\ttraining's l2: 619914\tvalid_1's l1: 380.543\tvalid_1's l2: 968428\n",
      "[18600]\ttraining's l1: 314.455\ttraining's l2: 615738\tvalid_1's l1: 379.98\tvalid_1's l2: 965832\n",
      "[18800]\ttraining's l1: 313.458\ttraining's l2: 610932\tvalid_1's l1: 379.391\tvalid_1's l2: 962623\n",
      "[19000]\ttraining's l1: 312.562\ttraining's l2: 606583\tvalid_1's l1: 378.889\tvalid_1's l2: 959767\n",
      "[19200]\ttraining's l1: 311.535\ttraining's l2: 602153\tvalid_1's l1: 378.287\tvalid_1's l2: 956785\n",
      "[19400]\ttraining's l1: 310.587\ttraining's l2: 597751\tvalid_1's l1: 377.748\tvalid_1's l2: 953708\n",
      "[19600]\ttraining's l1: 309.705\ttraining's l2: 593976\tvalid_1's l1: 377.239\tvalid_1's l2: 951045\n",
      "[19800]\ttraining's l1: 308.788\ttraining's l2: 590108\tvalid_1's l1: 376.671\tvalid_1's l2: 948203\n",
      "[20000]\ttraining's l1: 307.742\ttraining's l2: 585816\tvalid_1's l1: 376.049\tvalid_1's l2: 945172\n",
      "Did not meet early stopping. Best iteration is:\n",
      "[20000]\ttraining's l1: 307.742\ttraining's l2: 585816\tvalid_1's l1: 376.049\tvalid_1's l2: 945172\n"
     ]
    }
   ],
   "source": [
    "import lightgbm as lgb\n",
    "from sklearn.model_selection import train_test_split\n",
    "for label in labels:\n",
    "    train[label] = train[label].fillna(0)\n",
    "    tmp = train[~train[label].isna()].reset_index(drop=True).copy(deep=True)\n",
    "    print(len(tmp))\n",
    "    X_train, X_test, y_train, y_test = train_test_split(tmp[features], tmp[label], train_size=0.2, random_state=1)\n",
    "    model = lgb.LGBMRegressor(\n",
    "        boosting=\"gbdt\",\n",
    "        max_depth=6,\n",
    "        learning_rate=0.001,\n",
    "        n_estimators=20000,\n",
    "        min_child_weight=1,\n",
    "        min_data_in_leaf=40,\n",
    "        subsample = 0.7,\n",
    "        feature_fraction=0.7,\n",
    "        bagging_seed=1,\n",
    "        reg_alpha=1,\n",
    "        reg_lambda=1,  # 此处不改了\n",
    "        min_sum_hessian_in_leaf=0.01,\n",
    "        random_state=1212\n",
    "    )\n",
    "\n",
    "    model.fit(X_train, y_train, eval_set=[(X_train, y_train), (X_test, y_test)], eval_metric=['mae'],\n",
    "          early_stopping_rounds=150, verbose=200)\n",
    "\n",
    "    test[label] = model.predict(test[features])"
   ],
   "metadata": {
    "collapsed": false,
    "pycharm": {
     "name": "#%%\n"
    }
   }
  },
  {
   "cell_type": "code",
   "execution_count": 61,
   "outputs": [],
   "source": [
    "test[['time'] + labels].to_csv(\"./res/base_line.csv\", index=False)"
   ],
   "metadata": {
    "collapsed": false,
    "pycharm": {
     "name": "#%%\n"
    }
   }
  },
  {
   "cell_type": "code",
   "execution_count": 65,
   "outputs": [
    {
     "data": {
      "text/plain": "0.6206642014686299"
     },
     "execution_count": 65,
     "metadata": {},
     "output_type": "execute_result"
    }
   ],
   "source": [
    "loss = np.sqrt(1.26355e+06) + np.sqrt(945172)/2\n",
    "1000/(1+loss)"
   ],
   "metadata": {
    "collapsed": false,
    "pycharm": {
     "name": "#%%\n"
    }
   }
  },
  {
   "cell_type": "code",
   "execution_count": 62,
   "outputs": [],
   "source": [],
   "metadata": {
    "collapsed": false,
    "pycharm": {
     "name": "#%%\n"
    }
   }
  }
 ],
 "metadata": {
  "kernelspec": {
   "display_name": "Python 3",
   "language": "python",
   "name": "python3"
  },
  "language_info": {
   "codemirror_mode": {
    "name": "ipython",
    "version": 2
   },
   "file_extension": ".py",
   "mimetype": "text/x-python",
   "name": "python",
   "nbconvert_exporter": "python",
   "pygments_lexer": "ipython2",
   "version": "2.7.6"
  }
 },
 "nbformat": 4,
 "nbformat_minor": 0
}