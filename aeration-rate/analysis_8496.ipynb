{
 "cells": [
  {
   "cell_type": "code",
   "execution_count": 323,
   "metadata": {
    "collapsed": true
   },
   "outputs": [],
   "source": [
    "import pandas as pd\n",
    "import numpy as np"
   ]
  },
  {
   "cell_type": "code",
   "execution_count": 324,
   "outputs": [],
   "source": [
    "data = pd.read_csv(\"./data/train_dataset.csv\")\n",
    "\n",
    "data['is_test'] = False\n",
    "evaluation = pd.read_csv(\"./data/evaluation_public.csv\")\n",
    "evaluation['is_test'] = True\n",
    "sample = pd.read_csv(\"./data/sample_submission.csv\")\n",
    "\n",
    "all_data = pd.concat([data, evaluation]).reset_index(drop=True)"
   ],
   "metadata": {
    "collapsed": false,
    "pycharm": {
     "name": "#%%\n"
    }
   }
  },
  {
   "cell_type": "code",
   "execution_count": 325,
   "outputs": [
    {
     "name": "stdout",
     "output_type": "stream",
     "text": [
      "<class 'pandas.core.frame.DataFrame'>\n",
      "RangeIndex: 140480 entries, 0 to 140479\n",
      "Data columns (total 30 columns):\n",
      " #   Column        Non-Null Count   Dtype  \n",
      "---  ------        --------------   -----  \n",
      " 0   time          140480 non-null  object \n",
      " 1   JS_NH3        113979 non-null  float64\n",
      " 2   CS_NH3        113493 non-null  float64\n",
      " 3   JS_TN         113979 non-null  float64\n",
      " 4   CS_TN         113593 non-null  float64\n",
      " 5   JS_LL         120761 non-null  float64\n",
      " 6   CS_LL         120971 non-null  float64\n",
      " 7   MCCS_NH4      120974 non-null  float64\n",
      " 8   MCCS_NO3      120974 non-null  float64\n",
      " 9   JS_COD        113979 non-null  float64\n",
      " 10  CS_COD        120595 non-null  float64\n",
      " 11  JS_SW         112368 non-null  float64\n",
      " 12  CS_SW         112587 non-null  float64\n",
      " 13  B_HYC_NH4     120975 non-null  float64\n",
      " 14  B_HYC_XD      120975 non-null  float64\n",
      " 15  B_HYC_MLSS    120975 non-null  float64\n",
      " 16  B_HYC_JS_DO   120975 non-null  float64\n",
      " 17  B_HYC_DO      120975 non-null  float64\n",
      " 18  B_CS_MQ_SSLL  121595 non-null  float64\n",
      " 19  B_QY_ORP      120975 non-null  float64\n",
      " 20  N_HYC_NH4     120975 non-null  float64\n",
      " 21  N_HYC_XD      120975 non-null  float64\n",
      " 22  N_HYC_MLSS    120975 non-null  float64\n",
      " 23  N_HYC_JS_DO   120974 non-null  float64\n",
      " 24  N_HYC_DO      120975 non-null  float64\n",
      " 25  N_CS_MQ_SSLL  121595 non-null  float64\n",
      " 26  N_QY_ORP      120975 non-null  float64\n",
      " 27  Label1        35068 non-null   float64\n",
      " 28  Label2        35068 non-null   float64\n",
      " 29  is_test       140480 non-null  bool   \n",
      "dtypes: bool(1), float64(28), object(1)\n",
      "memory usage: 31.2+ MB\n"
     ]
    }
   ],
   "source": [
    "data.info()"
   ],
   "metadata": {
    "collapsed": false,
    "pycharm": {
     "name": "#%%\n"
    }
   }
  },
  {
   "cell_type": "markdown",
   "source": [
    "# 特征处理"
   ],
   "metadata": {
    "collapsed": false,
    "pycharm": {
     "name": "#%% md\n"
    }
   }
  },
  {
   "cell_type": "code",
   "execution_count": 326,
   "outputs": [],
   "source": [
    "all_data['date'] = pd.to_datetime(all_data['time'])\n",
    "all_data['hour'] = all_data['date'].dt.hour\n",
    "all_data['year'] = all_data['date'].dt.year\n",
    "all_data['month'] = all_data['date'].dt.month\n",
    "all_data['minute'] = all_data['date'].dt.minute\n",
    "all_data['weekday'] = all_data['date'].dt.weekday\n",
    "all_data['day'] = all_data['date'].dt.day\n",
    "all_data['hour'] = all_data['date'].dt.hour\n",
    "all_data['ts'] = all_data['hour']*3600 + all_data['minute']*60 + all_data['date'].dt.second"
   ],
   "metadata": {
    "collapsed": false,
    "pycharm": {
     "name": "#%%\n"
    }
   }
  },
  {
   "cell_type": "code",
   "execution_count": 327,
   "outputs": [],
   "source": [
    "import gc\n",
    "features = [ 'JS_NH3', 'CS_NH3', 'JS_TN', 'CS_TN', 'JS_LL', 'CS_LL', 'MCCS_NH4', 'MCCS_NO3', 'JS_COD', 'CS_COD', 'JS_SW', 'CS_SW', 'B_HYC_NH4', 'B_HYC_XD', 'B_HYC_MLSS', 'B_HYC_JS_DO', 'B_HYC_DO', 'B_CS_MQ_SSLL', 'B_QY_ORP', 'N_HYC_NH4', 'N_HYC_XD', 'N_HYC_MLSS', 'N_HYC_JS_DO', 'N_HYC_DO', 'N_CS_MQ_SSLL', 'N_QY_ORP','weekday','hour', 'ts']\n",
    "features = [f for f in features if f not in ['time', 'Label1', 'Label2','CS_LL','CS_NH3', 'JS_SW']] #\n",
    "\n",
    "\n",
    "\n",
    "\n",
    "labels = ['Label1', 'Label2']\n",
    "train = all_data[~all_data['is_test']].copy(deep=True)\n",
    "test = all_data[all_data['is_test']].copy(deep=True)\n",
    "test['is_train'] = False\n",
    "train['is_train'] = True\n",
    "data = pd.concat([train, test]).reset_index(drop=True)\n",
    "del all_data\n",
    "gc.collect()\n",
    "\n",
    "for f in features:\n",
    "    data[f] = data[f].fillna(method='ffill')"
   ],
   "metadata": {
    "collapsed": false,
    "pycharm": {
     "name": "#%%\n"
    }
   }
  },
  {
   "cell_type": "markdown",
   "source": [
    "# 提取特征的diff值"
   ],
   "metadata": {
    "collapsed": false,
    "pycharm": {
     "name": "#%% md\n"
    }
   }
  },
  {
   "cell_type": "code",
   "execution_count": 329,
   "outputs": [],
   "source": [
    "# fff = ['MCCS_NO3', 'B_HYC_NH4','N_HYC_NH4']\n",
    "# for f in features:\n",
    "#     data[f] = data[f].fillna(method='ffill')\n",
    "# for i in range(len(fff)-1):\n",
    "#     for j in range(i+1, len(fff)):\n",
    "#         f1 = features[i]\n",
    "#         f2 = features[j]\n",
    "#         # feature_jian = f\"{f1}_{f2}_jian\"\n",
    "#         feature_radio = f\"{f1}_{f2}_radio\"\n",
    "#         data[feature_radio] = data[f1]/data[f2]\n",
    "#         # data[feature_jian] = data[f1]-data[f2]\n",
    "#         features.append(feature_radio)\n",
    "#         # features.append(feature_jian)"
   ],
   "metadata": {
    "collapsed": false,
    "pycharm": {
     "name": "#%%\n"
    }
   }
  },
  {
   "cell_type": "code",
   "execution_count": 330,
   "outputs": [
    {
     "name": "stderr",
     "output_type": "stream",
     "text": [
      "C:\\Users\\38125\\AppData\\Local\\Temp/ipykernel_4324/2065843861.py:22: PerformanceWarning: DataFrame is highly fragmented.  This is usually the result of calling `frame.insert` many times, which has poor performance.  Consider joining all columns at once using pd.concat(axis=1) instead.  To get a de-fragmented frame, use `newframe = frame.copy()`\n",
      "  data[f_skew_name] = train_rolling.skew().fillna(0).values\n",
      "C:\\Users\\38125\\AppData\\Local\\Temp/ipykernel_4324/2065843861.py:24: PerformanceWarning: DataFrame is highly fragmented.  This is usually the result of calling `frame.insert` many times, which has poor performance.  Consider joining all columns at once using pd.concat(axis=1) instead.  To get a de-fragmented frame, use `newframe = frame.copy()`\n",
      "  data[f'{f}_{f_mean_name}_cha'] = data[f] - data[f_mean_name]\n",
      "C:\\Users\\38125\\AppData\\Local\\Temp/ipykernel_4324/2065843861.py:25: PerformanceWarning: DataFrame is highly fragmented.  This is usually the result of calling `frame.insert` many times, which has poor performance.  Consider joining all columns at once using pd.concat(axis=1) instead.  To get a de-fragmented frame, use `newframe = frame.copy()`\n",
      "  data[f'{f}_{f_max_name}_cha'] = data[f] - data[f_max_name]\n",
      "C:\\Users\\38125\\AppData\\Local\\Temp/ipykernel_4324/2065843861.py:26: PerformanceWarning: DataFrame is highly fragmented.  This is usually the result of calling `frame.insert` many times, which has poor performance.  Consider joining all columns at once using pd.concat(axis=1) instead.  To get a de-fragmented frame, use `newframe = frame.copy()`\n",
      "  data[f'{f}_{f_min_name}_cha'] = data[f] - data[f_min_name]\n",
      "C:\\Users\\38125\\AppData\\Local\\Temp/ipykernel_4324/2065843861.py:17: PerformanceWarning: DataFrame is highly fragmented.  This is usually the result of calling `frame.insert` many times, which has poor performance.  Consider joining all columns at once using pd.concat(axis=1) instead.  To get a de-fragmented frame, use `newframe = frame.copy()`\n",
      "  data[f_mean_name] = train_rolling.mean().fillna(0).values\n",
      "C:\\Users\\38125\\AppData\\Local\\Temp/ipykernel_4324/2065843861.py:18: PerformanceWarning: DataFrame is highly fragmented.  This is usually the result of calling `frame.insert` many times, which has poor performance.  Consider joining all columns at once using pd.concat(axis=1) instead.  To get a de-fragmented frame, use `newframe = frame.copy()`\n",
      "  data[f_max_name] = train_rolling.max().fillna(0).values\n",
      "C:\\Users\\38125\\AppData\\Local\\Temp/ipykernel_4324/2065843861.py:19: PerformanceWarning: DataFrame is highly fragmented.  This is usually the result of calling `frame.insert` many times, which has poor performance.  Consider joining all columns at once using pd.concat(axis=1) instead.  To get a de-fragmented frame, use `newframe = frame.copy()`\n",
      "  data[f_min_name] = train_rolling.min().fillna(0).values\n",
      "C:\\Users\\38125\\AppData\\Local\\Temp/ipykernel_4324/2065843861.py:20: PerformanceWarning: DataFrame is highly fragmented.  This is usually the result of calling `frame.insert` many times, which has poor performance.  Consider joining all columns at once using pd.concat(axis=1) instead.  To get a de-fragmented frame, use `newframe = frame.copy()`\n",
      "  data[f_std_name] = train_rolling.std().fillna(0).values\n",
      "C:\\Users\\38125\\AppData\\Local\\Temp/ipykernel_4324/2065843861.py:21: PerformanceWarning: DataFrame is highly fragmented.  This is usually the result of calling `frame.insert` many times, which has poor performance.  Consider joining all columns at once using pd.concat(axis=1) instead.  To get a de-fragmented frame, use `newframe = frame.copy()`\n",
      "  data[f_corr_name] = train_rolling.corr().fillna(0).values\n"
     ]
    }
   ],
   "source": [
    "df_list = []\n",
    "i = 0\n",
    "add_featuers = []\n",
    "length = 0\n",
    "for f in ['JS_NH3', 'CS_TN', 'JS_LL', 'JS_COD', 'CS_COD', 'B_HYC_NH4', 'B_HYC_XD', 'B_HYC_MLSS', 'B_HYC_JS_DO', 'B_HYC_DO', 'B_CS_MQ_SSLL',\n",
    "          'N_HYC_NH4', 'N_HYC_XD', 'N_HYC_MLSS', 'N_HYC_DO', 'N_CS_MQ_SSLL', 'N_QY_ORP']:\n",
    "    for r in [15]:\n",
    "        train_rolling = data[f].rolling(window=r, center=False)\n",
    "        f_mean_name = 'rolling{}_{}_mean'.format(r,f)\n",
    "        f_max_name = 'rolling{}_{}_max'.format(r,f)\n",
    "        f_min_name = 'rolling{}_{}_min'.format(r,f)\n",
    "        f_std_name = 'rolling{}_{}_std'.format(r,f)\n",
    "        f_corr_name = 'rolling{}_{}_corr'.format(r,f)\n",
    "        f_cov_name = 'rolling{}_{}_cov'.format(r,f)\n",
    "        f_skew_name = 'rolling{}_{}_skew'.format(r,f)\n",
    "        f_kurt_name = 'rolling{}_{}_kurt'.format(r,f)\n",
    "        data[f_mean_name] = train_rolling.mean().fillna(0).values\n",
    "        data[f_max_name] = train_rolling.max().fillna(0).values\n",
    "        data[f_min_name] = train_rolling.min().fillna(0).values\n",
    "        data[f_std_name] = train_rolling.std().fillna(0).values\n",
    "        data[f_corr_name] = train_rolling.corr().fillna(0).values\n",
    "        data[f_skew_name] = train_rolling.skew().fillna(0).values\n",
    "\n",
    "        data[f'{f}_{f_mean_name}_cha'] = data[f] - data[f_mean_name]\n",
    "        data[f'{f}_{f_max_name}_cha'] = data[f] - data[f_max_name]\n",
    "        data[f'{f}_{f_min_name}_cha'] = data[f] - data[f_min_name]\n",
    "\n",
    "        if i == 0:\n",
    "            add_featuers.append(f_mean_name)\n",
    "            add_featuers.append(f_max_name)\n",
    "            add_featuers.append(f_min_name)\n",
    "            add_featuers.append(f_std_name)\n",
    "            add_featuers.append(f_corr_name)\n",
    "            add_featuers.append(f_skew_name)\n",
    "            add_featuers.append(f'{f}_{f_mean_name}_cha')\n",
    "            add_featuers.append(f'{f}_{f_max_name}_cha')\n",
    "            add_featuers.append(f'{f}_{f_min_name}_cha')\n",
    "\n",
    "    # for r in [5]:\n",
    "    #     train_rolling = data[f].shift(15).rolling(window=r, center=False)\n",
    "    #     f_mean_name = 'shift_rolling{}_{}_mean'.format(r,f)\n",
    "    #     f_max_name = 'shift_rolling{}_{}_max'.format(r,f)\n",
    "    #     f_min_name = 'shift_rolling{}_{}_min'.format(r,f)\n",
    "    #     f_std_name = 'shift_rolling{}_{}_std'.format(r,f)\n",
    "    #     data[f_mean_name] = train_rolling.mean().fillna(0).values\n",
    "    #     data[f_max_name] = train_rolling.max().fillna(0).values\n",
    "    #     data[f_min_name] = train_rolling.min().fillna(0).values\n",
    "    #     data[f_std_name] = train_rolling.std().fillna(0).values\n",
    "    #     data[f'shift_{f}_{f_mean_name}_cha'] = data[f] - data[f_mean_name]\n",
    "    #     data[f'shift_{f}_{f_max_name}_cha'] = data[f] - data[f_max_name]\n",
    "    #     data[f'shift_{f}_{f_min_name}_cha'] = data[f] - data[f_min_name]\n",
    "    #\n",
    "    #     if i == 0:\n",
    "    #         add_featuers.append(f_mean_name)\n",
    "    #         add_featuers.append(f_max_name)\n",
    "    #         add_featuers.append(f_min_name)\n",
    "    #         add_featuers.append(f_std_name)\n",
    "    #         add_featuers.append(f'shift_{f}_{f_mean_name}_cha')\n",
    "    #         add_featuers.append(f'shift_{f}_{f_max_name}_cha')\n",
    "    #         add_featuers.append(f'shift_{f}_{f_min_name}_cha')\n",
    "features.extend(add_featuers)\n",
    "\n",
    "# 对所有的特征进行划分\n",
    "for f in features:\n",
    "    if f not in ['weekday','hour', 'ts']:\n",
    "        q = len(data[f].drop_duplicates())\n",
    "        data[f] = pd.qcut(data[f], q=int(q/10), labels=False, duplicates=\"drop\")\n",
    "\n",
    "train = data[data['is_train']].reset_index(drop=True)\n",
    "test = data[~data['is_train']].reset_index(drop=True)"
   ],
   "metadata": {
    "collapsed": false,
    "pycharm": {
     "name": "#%%\n"
    }
   }
  },
  {
   "cell_type": "markdown",
   "source": [
    "# 删除分布不均衡的特征"
   ],
   "metadata": {
    "collapsed": false,
    "pycharm": {
     "name": "#%% md\n"
    }
   }
  },
  {
   "cell_type": "code",
   "execution_count": 331,
   "outputs": [],
   "source": [
    "train = train.dropna(subset=['Label1', 'Label2']).reset_index(drop=True)\n",
    "def transform(x: pd.Series, c=20):\n",
    "    return np.log1p(x/c)\n",
    "\n",
    "def inverse_transform(x: pd.Series, c = 20):\n",
    "    return np.expm1(x)*c\n",
    "\n",
    "train = train.dropna(subset=['Label1', 'Label2']).reset_index(drop=True)\n",
    "train['Label1'] = transform(train['Label1'])\n",
    "label_c = 8\n",
    "train['Label2'] = transform(train['Label2'], c=label_c)"
   ],
   "metadata": {
    "collapsed": false,
    "pycharm": {
     "name": "#%%\n"
    }
   }
  },
  {
   "cell_type": "code",
   "execution_count": 332,
   "outputs": [
    {
     "name": "stdout",
     "output_type": "stream",
     "text": [
      "35068\n",
      "8.106907231653508 3.731088486252612\n",
      "[LightGBM] [Warning] boosting is set=gbdt, boosting_type=gbdt will be ignored. Current value: boosting=gbdt\n",
      "[LightGBM] [Warning] feature_fraction is set=0.3, colsample_bytree=1.0 will be ignored. Current value: feature_fraction=0.3\n",
      "[LightGBM] [Warning] min_data_in_leaf is set=50, min_child_samples=20 will be ignored. Current value: min_data_in_leaf=50\n",
      "[LightGBM] [Warning] min_sum_hessian_in_leaf is set=0.1, min_child_weight=0.001 will be ignored. Current value: min_sum_hessian_in_leaf=0.1\n",
      "Training until validation scores don't improve for 150 rounds\n",
      "[200]\ttraining's rmse: 0.0888628\ttraining's l2: 0.0078966\tvalid_1's rmse: 0.101852\tvalid_1's l2: 0.0103738\n",
      "[400]\ttraining's rmse: 0.0774802\ttraining's l2: 0.00600317\tvalid_1's rmse: 0.099279\tvalid_1's l2: 0.00985633\n",
      "[600]\ttraining's rmse: 0.0700715\ttraining's l2: 0.00491002\tvalid_1's rmse: 0.0983354\tvalid_1's l2: 0.00966985\n",
      "[800]\ttraining's rmse: 0.0641661\ttraining's l2: 0.00411729\tvalid_1's rmse: 0.0979365\tvalid_1's l2: 0.00959156\n",
      "[1000]\ttraining's rmse: 0.0593238\ttraining's l2: 0.00351931\tvalid_1's rmse: 0.0977046\tvalid_1's l2: 0.00954619\n",
      "[1200]\ttraining's rmse: 0.055382\ttraining's l2: 0.00306717\tvalid_1's rmse: 0.0976809\tvalid_1's l2: 0.00954157\n",
      "[1400]\ttraining's rmse: 0.0518923\ttraining's l2: 0.00269281\tvalid_1's rmse: 0.0975109\tvalid_1's l2: 0.00950838\n",
      "[1600]\ttraining's rmse: 0.0488963\ttraining's l2: 0.00239085\tvalid_1's rmse: 0.0975357\tvalid_1's l2: 0.00951321\n",
      "Early stopping, best iteration is:\n",
      "[1535]\ttraining's rmse: 0.0498257\ttraining's l2: 0.0024826\tvalid_1's rmse: 0.0975049\tvalid_1's l2: 0.0095072\n",
      "score_list = [1274.7831212422757]\n",
      "35068\n",
      "8.729723218012834 4.510461075505404\n",
      "[LightGBM] [Warning] boosting is set=gbdt, boosting_type=gbdt will be ignored. Current value: boosting=gbdt\n",
      "[LightGBM] [Warning] feature_fraction is set=0.3, colsample_bytree=1.0 will be ignored. Current value: feature_fraction=0.3\n",
      "[LightGBM] [Warning] min_data_in_leaf is set=40, min_child_samples=20 will be ignored. Current value: min_data_in_leaf=40\n",
      "[LightGBM] [Warning] min_sum_hessian_in_leaf is set=0.01, min_child_weight=1 will be ignored. Current value: min_sum_hessian_in_leaf=0.01\n",
      "Training until validation scores don't improve for 150 rounds\n",
      "[200]\ttraining's rmse: 0.105907\ttraining's l2: 0.0112162\tvalid_1's rmse: 0.10387\tvalid_1's l2: 0.010789\n",
      "[400]\ttraining's rmse: 0.0943705\ttraining's l2: 0.00890578\tvalid_1's rmse: 0.0982158\tvalid_1's l2: 0.00964634\n",
      "[600]\ttraining's rmse: 0.0887664\ttraining's l2: 0.00787947\tvalid_1's rmse: 0.0960954\tvalid_1's l2: 0.00923433\n",
      "[800]\ttraining's rmse: 0.0844434\ttraining's l2: 0.00713068\tvalid_1's rmse: 0.0957351\tvalid_1's l2: 0.0091652\n",
      "Early stopping, best iteration is:\n",
      "[801]\ttraining's rmse: 0.0843955\ttraining's l2: 0.0071226\tvalid_1's rmse: 0.0957316\tvalid_1's l2: 0.00916454\n",
      "score_list = [1274.7831212422757, 1077.1553413743038]\n",
      "0.8496398830141252\n"
     ]
    }
   ],
   "source": [
    "import lightgbm as lgb\n",
    "from sklearn.metrics import mean_squared_error\n",
    "\n",
    "score_list = []\n",
    "for label in labels:\n",
    "    train[label] = train[label].fillna(0)\n",
    "    tmp = train[~train[label].isna()].reset_index(drop=True).copy(deep=True)\n",
    "    print(len(tmp))\n",
    "    print(np.max(tmp[label]), np.min(tmp[label]))\n",
    "    test_size = 4000\n",
    "    X_train = tmp[features][:-test_size]\n",
    "    X_test = tmp[features][-test_size:]\n",
    "    y_train = tmp[label][:-test_size]\n",
    "    y_test = tmp[label][-test_size:]\n",
    "    if label == \"Label1\":\n",
    "        model = lgb.LGBMRegressor(\n",
    "            boosting=\"gbdt\",\n",
    "            max_depth=6,\n",
    "            learning_rate=0.03,\n",
    "            n_estimators=10000,\n",
    "            min_data_in_leaf=50,\n",
    "            subsample = 0.8,\n",
    "            feature_fraction=0.3,\n",
    "            bagging_seed=1,\n",
    "            reg_alpha=1,\n",
    "            reg_lambda=1,  # 此处不改了\n",
    "            min_sum_hessian_in_leaf=0.1,\n",
    "            random_state=1212\n",
    "        )\n",
    "        model.fit(X_train, y_train, eval_set=[(X_train, y_train), (X_test, y_test)], eval_metric=['rmse'],\n",
    "              early_stopping_rounds=150, verbose=200)\n",
    "        test_pred = model.predict(X_test)\n",
    "        score_list.append(np.sqrt(mean_squared_error(inverse_transform(y_test), inverse_transform(test_pred))))\n",
    "        print(f\"score_list = {score_list}\")\n",
    "\n",
    "    else:\n",
    "        model = lgb.LGBMRegressor(\n",
    "            boosting=\"gbdt\",\n",
    "            max_depth=4,\n",
    "            learning_rate=0.02,\n",
    "            n_estimators=10000,\n",
    "            min_child_weight=1,\n",
    "            min_data_in_leaf=40,\n",
    "            subsample = 0.4,\n",
    "            feature_fraction=0.3,\n",
    "            bagging_seed=11,\n",
    "            reg_alpha=1,\n",
    "            reg_lambda=1,  # 此处不改了\n",
    "            min_sum_hessian_in_leaf=0.01,\n",
    "            random_state=222\n",
    "        )\n",
    "\n",
    "        model.fit(X_train, y_train, eval_set=[(X_train, y_train), (X_test, y_test)], eval_metric=['rmse'],\n",
    "              early_stopping_rounds=150, verbose=200)\n",
    "        test_pred = model.predict(X_test)\n",
    "        score_list.append(np.sqrt(mean_squared_error(inverse_transform(y_test, c=label_c), inverse_transform(test_pred, c=label_c))))\n",
    "        print(f\"score_list = {score_list}\")\n",
    "\n",
    "loss = np.mean(score_list)\n",
    "score = 1000/(1+loss)\n",
    "print(score)"
   ],
   "metadata": {
    "collapsed": false,
    "pycharm": {
     "name": "#%%\n"
    }
   }
  },
  {
   "cell_type": "code",
   "execution_count": 337,
   "outputs": [
    {
     "name": "stdout",
     "output_type": "stream",
     "text": [
      "0.8496398830141252\n"
     ]
    }
   ],
   "source": [
    "loss = np.mean(score_list)\n",
    "score = 1000/(1+loss)\n",
    "print(score)"
   ],
   "metadata": {
    "collapsed": false,
    "pycharm": {
     "name": "#%%\n"
    }
   }
  },
  {
   "cell_type": "code",
   "execution_count": 333,
   "outputs": [],
   "source": [],
   "metadata": {
    "collapsed": false,
    "pycharm": {
     "name": "#%%\n"
    }
   }
  }
 ],
 "metadata": {
  "kernelspec": {
   "display_name": "Python 3",
   "language": "python",
   "name": "python3"
  },
  "language_info": {
   "codemirror_mode": {
    "name": "ipython",
    "version": 2
   },
   "file_extension": ".py",
   "mimetype": "text/x-python",
   "name": "python",
   "nbconvert_exporter": "python",
   "pygments_lexer": "ipython2",
   "version": "2.7.6"
  }
 },
 "nbformat": 4,
 "nbformat_minor": 0
}