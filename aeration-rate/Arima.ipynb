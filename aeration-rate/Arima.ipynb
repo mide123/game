{
 "cells": [
  {
   "cell_type": "code",
   "execution_count": 15,
   "metadata": {
    "collapsed": true
   },
   "outputs": [],
   "source": [
    "import statsmodels.api as sm\n",
    "import pandas as pd"
   ]
  },
  {
   "cell_type": "code",
   "execution_count": 16,
   "outputs": [],
   "source": [
    "data  = pd.read_csv(\"./data/train_dataset.csv\")\n",
    "train_data = data.dropna(subset=['Label1', 'Label2']).reset_index(drop=True)\n",
    "evaluation = pd.read_csv(\"./data/evaluation_public.csv\")\n",
    "\n",
    "\n",
    "evaluation.index = pd.to_datetime(evaluation['time'])\n"
   ],
   "metadata": {
    "collapsed": false,
    "pycharm": {
     "name": "#%%\n"
    }
   }
  },
  {
   "cell_type": "code",
   "execution_count": 29,
   "outputs": [
    {
     "name": "stderr",
     "output_type": "stream",
     "text": [
      "c:\\users\\38125\\anaconda3\\envs\\python38\\lib\\site-packages\\statsmodels\\tsa\\base\\tsa_model.py:471: ValueWarning: A date index has been provided, but it has no associated frequency information and so will be ignored when e.g. forecasting.\n",
      "  self._init_dates(dates, freq)\n",
      "c:\\users\\38125\\anaconda3\\envs\\python38\\lib\\site-packages\\statsmodels\\tsa\\base\\tsa_model.py:471: ValueWarning: A date index has been provided, but it has no associated frequency information and so will be ignored when e.g. forecasting.\n",
      "  self._init_dates(dates, freq)\n",
      "c:\\users\\38125\\anaconda3\\envs\\python38\\lib\\site-packages\\statsmodels\\tsa\\base\\tsa_model.py:471: ValueWarning: A date index has been provided, but it has no associated frequency information and so will be ignored when e.g. forecasting.\n",
      "  self._init_dates(dates, freq)\n",
      "c:\\users\\38125\\anaconda3\\envs\\python38\\lib\\site-packages\\statsmodels\\base\\model.py:604: ConvergenceWarning: Maximum Likelihood optimization failed to converge. Check mle_retvals\n",
      "  warnings.warn(\"Maximum Likelihood optimization failed to \"\n"
     ]
    },
    {
     "ename": "MemoryError",
     "evalue": "Unable to allocate 641. MiB for an array with shape (52, 52, 31068) and data type float64",
     "output_type": "error",
     "traceback": [
      "\u001B[1;31m---------------------------------------------------------------------------\u001B[0m",
      "\u001B[1;31mMemoryError\u001B[0m                               Traceback (most recent call last)",
      "\u001B[1;32m~\\AppData\\Local\\Temp/ipykernel_36824/359289652.py\u001B[0m in \u001B[0;36m<module>\u001B[1;34m\u001B[0m\n\u001B[0;32m     13\u001B[0m     \u001B[0mdata\u001B[0m \u001B[1;33m=\u001B[0m \u001B[0mdata\u001B[0m\u001B[1;33m[\u001B[0m\u001B[1;33m:\u001B[0m \u001B[1;33m-\u001B[0m\u001B[0mtest_len\u001B[0m\u001B[1;33m]\u001B[0m\u001B[1;33m\u001B[0m\u001B[1;33m\u001B[0m\u001B[0m\n\u001B[0;32m     14\u001B[0m     \u001B[0mmodel\u001B[0m \u001B[1;33m=\u001B[0m \u001B[0msm\u001B[0m\u001B[1;33m.\u001B[0m\u001B[0mtsa\u001B[0m\u001B[1;33m.\u001B[0m\u001B[0marima\u001B[0m\u001B[1;33m.\u001B[0m\u001B[0mARIMA\u001B[0m\u001B[1;33m(\u001B[0m\u001B[0mdata\u001B[0m\u001B[1;33m,\u001B[0m \u001B[0morder\u001B[0m\u001B[1;33m=\u001B[0m\u001B[1;33m(\u001B[0m\u001B[1;36m5\u001B[0m\u001B[1;33m,\u001B[0m \u001B[1;36m1\u001B[0m\u001B[1;33m,\u001B[0m \u001B[1;36m50\u001B[0m\u001B[1;33m)\u001B[0m\u001B[1;33m)\u001B[0m  \u001B[1;31m# 经过多次调参，发现这个参数最好\u001B[0m\u001B[1;33m\u001B[0m\u001B[1;33m\u001B[0m\u001B[0m\n\u001B[1;32m---> 15\u001B[1;33m     \u001B[0marima_res\u001B[0m \u001B[1;33m=\u001B[0m \u001B[0mmodel\u001B[0m\u001B[1;33m.\u001B[0m\u001B[0mfit\u001B[0m\u001B[1;33m(\u001B[0m\u001B[1;33m)\u001B[0m\u001B[1;33m\u001B[0m\u001B[1;33m\u001B[0m\u001B[0m\n\u001B[0m\u001B[0;32m     16\u001B[0m     \u001B[0mmodel_list\u001B[0m\u001B[1;33m.\u001B[0m\u001B[0mappend\u001B[0m\u001B[1;33m(\u001B[0m\u001B[0marima_res\u001B[0m\u001B[1;33m)\u001B[0m\u001B[1;33m\u001B[0m\u001B[1;33m\u001B[0m\u001B[0m\n\u001B[0;32m     17\u001B[0m     \u001B[0marima_res\u001B[0m\u001B[1;33m.\u001B[0m\u001B[0mpredict\u001B[0m\u001B[1;33m(\u001B[0m\u001B[0mstart\u001B[0m\u001B[1;33m,\u001B[0m \u001B[0mend\u001B[0m\u001B[1;33m)\u001B[0m\u001B[1;33m\u001B[0m\u001B[1;33m\u001B[0m\u001B[0m\n",
      "\u001B[1;32mc:\\users\\38125\\anaconda3\\envs\\python38\\lib\\site-packages\\statsmodels\\tsa\\arima\\model.py\u001B[0m in \u001B[0;36mfit\u001B[1;34m(self, start_params, transformed, includes_fixed, method, method_kwargs, gls, gls_kwargs, cov_type, cov_kwds, return_params, low_memory)\u001B[0m\n\u001B[0;32m    388\u001B[0m                 \u001B[0mmethod_kwargs\u001B[0m\u001B[1;33m.\u001B[0m\u001B[0msetdefault\u001B[0m\u001B[1;33m(\u001B[0m\u001B[1;34m'disp'\u001B[0m\u001B[1;33m,\u001B[0m \u001B[1;36m0\u001B[0m\u001B[1;33m)\u001B[0m\u001B[1;33m\u001B[0m\u001B[1;33m\u001B[0m\u001B[0m\n\u001B[0;32m    389\u001B[0m \u001B[1;33m\u001B[0m\u001B[0m\n\u001B[1;32m--> 390\u001B[1;33m                 res = super().fit(\n\u001B[0m\u001B[0;32m    391\u001B[0m                     \u001B[0mreturn_params\u001B[0m\u001B[1;33m=\u001B[0m\u001B[0mreturn_params\u001B[0m\u001B[1;33m,\u001B[0m \u001B[0mlow_memory\u001B[0m\u001B[1;33m=\u001B[0m\u001B[0mlow_memory\u001B[0m\u001B[1;33m,\u001B[0m\u001B[1;33m\u001B[0m\u001B[1;33m\u001B[0m\u001B[0m\n\u001B[0;32m    392\u001B[0m                     cov_type=cov_type, cov_kwds=cov_kwds, **method_kwargs)\n",
      "\u001B[1;32mc:\\users\\38125\\anaconda3\\envs\\python38\\lib\\site-packages\\statsmodels\\tsa\\statespace\\mlemodel.py\u001B[0m in \u001B[0;36mfit\u001B[1;34m(self, start_params, transformed, includes_fixed, cov_type, cov_kwds, method, maxiter, full_output, disp, callback, return_params, optim_score, optim_complex_step, optim_hessian, flags, low_memory, **kwargs)\u001B[0m\n\u001B[0;32m    726\u001B[0m             \u001B[1;32melse\u001B[0m\u001B[1;33m:\u001B[0m\u001B[1;33m\u001B[0m\u001B[1;33m\u001B[0m\u001B[0m\n\u001B[0;32m    727\u001B[0m                 \u001B[0mfunc\u001B[0m \u001B[1;33m=\u001B[0m \u001B[0mself\u001B[0m\u001B[1;33m.\u001B[0m\u001B[0msmooth\u001B[0m\u001B[1;33m\u001B[0m\u001B[1;33m\u001B[0m\u001B[0m\n\u001B[1;32m--> 728\u001B[1;33m             res = func(mlefit.params, transformed=False, includes_fixed=False,\n\u001B[0m\u001B[0;32m    729\u001B[0m                        cov_type=cov_type, cov_kwds=cov_kwds)\n\u001B[0;32m    730\u001B[0m \u001B[1;33m\u001B[0m\u001B[0m\n",
      "\u001B[1;32mc:\\users\\38125\\anaconda3\\envs\\python38\\lib\\site-packages\\statsmodels\\tsa\\statespace\\mlemodel.py\u001B[0m in \u001B[0;36msmooth\u001B[1;34m(self, params, transformed, includes_fixed, complex_step, cov_type, cov_kwds, return_ssm, results_class, results_wrapper_class, **kwargs)\u001B[0m\n\u001B[0;32m    884\u001B[0m \u001B[1;33m\u001B[0m\u001B[0m\n\u001B[0;32m    885\u001B[0m         \u001B[1;31m# Get the state space output\u001B[0m\u001B[1;33m\u001B[0m\u001B[1;33m\u001B[0m\u001B[1;33m\u001B[0m\u001B[0m\n\u001B[1;32m--> 886\u001B[1;33m         \u001B[0mresult\u001B[0m \u001B[1;33m=\u001B[0m \u001B[0mself\u001B[0m\u001B[1;33m.\u001B[0m\u001B[0mssm\u001B[0m\u001B[1;33m.\u001B[0m\u001B[0msmooth\u001B[0m\u001B[1;33m(\u001B[0m\u001B[0mcomplex_step\u001B[0m\u001B[1;33m=\u001B[0m\u001B[0mcomplex_step\u001B[0m\u001B[1;33m,\u001B[0m \u001B[1;33m**\u001B[0m\u001B[0mkwargs\u001B[0m\u001B[1;33m)\u001B[0m\u001B[1;33m\u001B[0m\u001B[1;33m\u001B[0m\u001B[0m\n\u001B[0m\u001B[0;32m    887\u001B[0m \u001B[1;33m\u001B[0m\u001B[0m\n\u001B[0;32m    888\u001B[0m         \u001B[1;31m# Wrap in a results object\u001B[0m\u001B[1;33m\u001B[0m\u001B[1;33m\u001B[0m\u001B[1;33m\u001B[0m\u001B[0m\n",
      "\u001B[1;32mc:\\users\\38125\\anaconda3\\envs\\python38\\lib\\site-packages\\statsmodels\\tsa\\statespace\\kalman_smoother.py\u001B[0m in \u001B[0;36msmooth\u001B[1;34m(self, smoother_output, smooth_method, results, run_filter, prefix, complex_step, update_representation, update_filter, update_smoother, **kwargs)\u001B[0m\n\u001B[0;32m    412\u001B[0m         \u001B[1;31m# Update the results\u001B[0m\u001B[1;33m\u001B[0m\u001B[1;33m\u001B[0m\u001B[1;33m\u001B[0m\u001B[0m\n\u001B[0;32m    413\u001B[0m         \u001B[1;32mif\u001B[0m \u001B[0mupdate_smoother\u001B[0m\u001B[1;33m:\u001B[0m\u001B[1;33m\u001B[0m\u001B[1;33m\u001B[0m\u001B[0m\n\u001B[1;32m--> 414\u001B[1;33m             \u001B[0mresults\u001B[0m\u001B[1;33m.\u001B[0m\u001B[0mupdate_smoother\u001B[0m\u001B[1;33m(\u001B[0m\u001B[0msmoother\u001B[0m\u001B[1;33m)\u001B[0m\u001B[1;33m\u001B[0m\u001B[1;33m\u001B[0m\u001B[0m\n\u001B[0m\u001B[0;32m    415\u001B[0m \u001B[1;33m\u001B[0m\u001B[0m\n\u001B[0;32m    416\u001B[0m         \u001B[1;32mreturn\u001B[0m \u001B[0mresults\u001B[0m\u001B[1;33m\u001B[0m\u001B[1;33m\u001B[0m\u001B[0m\n",
      "\u001B[1;32mc:\\users\\38125\\anaconda3\\envs\\python38\\lib\\site-packages\\statsmodels\\tsa\\statespace\\kalman_smoother.py\u001B[0m in \u001B[0;36mupdate_smoother\u001B[1;34m(self, smoother)\u001B[0m\n\u001B[0;32m    670\u001B[0m \u001B[1;33m\u001B[0m\u001B[0m\n\u001B[0;32m    671\u001B[0m         self.innovations_transition = (\n\u001B[1;32m--> 672\u001B[1;33m             np.array(smoother.innovations_transition, copy=True))\n\u001B[0m\u001B[0;32m    673\u001B[0m \u001B[1;33m\u001B[0m\u001B[0m\n\u001B[0;32m    674\u001B[0m         \u001B[1;31m# Diffuse objects\u001B[0m\u001B[1;33m\u001B[0m\u001B[1;33m\u001B[0m\u001B[1;33m\u001B[0m\u001B[0m\n",
      "\u001B[1;31mMemoryError\u001B[0m: Unable to allocate 641. MiB for an array with shape (52, 52, 31068) and data type float64"
     ]
    }
   ],
   "source": [
    "from sklearn.metrics import mean_squared_error\n",
    "import numpy as np\n",
    "score_list = []\n",
    "model_list = []\n",
    "for label in ['Label1', 'Label2']:\n",
    "    test_len = 4000\n",
    "    data = train_data.copy(deep=True)\n",
    "    data.index = pd.to_datetime(data['time'])\n",
    "    data = data[['Label1']].copy(deep=True)\n",
    "\n",
    "    start = data.index[0]\n",
    "    end = data.index[-1]\n",
    "    data = data[: -test_len]\n",
    "    model = sm.tsa.arima.ARIMA(data, order=(5, 1, 30))  # 经过多次调参，发现这个参数最好\n",
    "    arima_res = model.fit()\n",
    "    model_list.append(arima_res)\n",
    "    arima_res.predict(start, end)\n",
    "    arima_predict = arima_res.predict(start, end)\n",
    "    loss1 = np.sqrt(mean_squared_error(data['Label1'][-test_len:] ,arima_predict['predicted_mean'].values[-test_len:]))\n",
    "    score_list.append(score_list)\n",
    "\n",
    "loss = np.mean(score_list)\n",
    "score = 1000/(1+loss)\n",
    "print(score)"
   ],
   "metadata": {
    "collapsed": false,
    "pycharm": {
     "name": "#%%\n"
    }
   }
  },
  {
   "cell_type": "code",
   "execution_count": 24,
   "outputs": [
    {
     "data": {
      "text/plain": "time\n2022-04-30 16:00:00        0.000000\n2022-05-02 16:00:00     1987.296045\n2022-05-03 16:00:00     1834.866498\n2022-05-04 16:00:00     1342.149958\n2022-05-05 16:00:00     1600.496081\n                           ...     \n2022-07-12 11:12:00    13057.660136\n2022-07-12 11:14:00    12826.934791\n2022-07-12 11:16:00    13986.304481\n2022-07-12 11:18:00    13125.580017\n2022-07-12 11:20:00    12099.887939\nName: predicted_mean, Length: 31068, dtype: float64"
     },
     "execution_count": 24,
     "metadata": {},
     "output_type": "execute_result"
    }
   ],
   "source": [
    "res = arima_res.predict(data.index[0], data.index[-1])"
   ],
   "metadata": {
    "collapsed": false,
    "pycharm": {
     "name": "#%%\n"
    }
   }
  },
  {
   "cell_type": "code",
   "execution_count": null,
   "outputs": [],
   "source": [],
   "metadata": {
    "collapsed": false,
    "pycharm": {
     "name": "#%%\n"
    }
   }
  }
 ],
 "metadata": {
  "kernelspec": {
   "display_name": "Python 3",
   "language": "python",
   "name": "python3"
  },
  "language_info": {
   "codemirror_mode": {
    "name": "ipython",
    "version": 2
   },
   "file_extension": ".py",
   "mimetype": "text/x-python",
   "name": "python",
   "nbconvert_exporter": "python",
   "pygments_lexer": "ipython2",
   "version": "2.7.6"
  }
 },
 "nbformat": 4,
 "nbformat_minor": 0
}