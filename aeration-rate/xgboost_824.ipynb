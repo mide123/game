{
 "cells": [
  {
   "cell_type": "code",
   "execution_count": 1,
   "metadata": {
    "collapsed": true
   },
   "outputs": [],
   "source": [
    "import pandas as pd\n",
    "import numpy as np\n",
    "import warnings\n",
    "warnings.filterwarnings(\"ignore\")"
   ]
  },
  {
   "cell_type": "code",
   "execution_count": 2,
   "outputs": [],
   "source": [
    "data = pd.read_csv(\"./data/train_dataset.csv\")\n",
    "\n",
    "data['is_test'] = False\n",
    "evaluation = pd.read_csv(\"./data/evaluation_public.csv\")\n",
    "evaluation['is_test'] = True\n",
    "sample = pd.read_csv(\"./data/sample_submission.csv\")\n",
    "\n",
    "all_data = pd.concat([data, evaluation]).reset_index(drop=True)"
   ],
   "metadata": {
    "collapsed": false,
    "pycharm": {
     "name": "#%%\n"
    }
   }
  },
  {
   "cell_type": "markdown",
   "source": [
    "# 特征处理"
   ],
   "metadata": {
    "collapsed": false,
    "pycharm": {
     "name": "#%% md\n"
    }
   }
  },
  {
   "cell_type": "code",
   "execution_count": 3,
   "outputs": [],
   "source": [
    "all_data['date'] = pd.to_datetime(all_data['time'])\n",
    "all_data['hour'] = all_data['date'].dt.hour\n",
    "all_data['year'] = all_data['date'].dt.year\n",
    "all_data['month'] = all_data['date'].dt.month\n",
    "all_data['minute'] = all_data['date'].dt.minute\n",
    "all_data['weekday'] = all_data['date'].dt.weekday\n",
    "all_data['day'] = all_data['date'].dt.day\n",
    "all_data['hour'] = all_data['date'].dt.hour\n",
    "all_data['ts'] = all_data['hour']*3600 + all_data['minute']*60 + all_data['date'].dt.second"
   ],
   "metadata": {
    "collapsed": false,
    "pycharm": {
     "name": "#%%\n"
    }
   }
  },
  {
   "cell_type": "code",
   "execution_count": 4,
   "outputs": [],
   "source": [
    "import gc\n",
    "features = [ 'JS_NH3', 'CS_NH3', 'JS_TN', 'CS_TN', 'JS_LL', 'CS_LL', 'MCCS_NH4', 'MCCS_NO3', 'JS_COD', 'CS_COD', 'JS_SW', 'CS_SW', 'B_HYC_NH4', 'B_HYC_XD', 'B_HYC_MLSS', 'B_HYC_JS_DO', 'B_HYC_DO', 'B_CS_MQ_SSLL', 'B_QY_ORP', 'N_HYC_NH4', 'N_HYC_XD', 'N_HYC_MLSS', 'N_HYC_JS_DO', 'N_HYC_DO', 'N_CS_MQ_SSLL', 'N_QY_ORP','weekday','hour', 'ts']\n",
    "features = [f for f in features if f not in ['time', 'Label1', 'Label2','CS_LL','CS_NH3', 'JS_SW']] #\n",
    "\n",
    "\n",
    "\n",
    "\n",
    "labels = ['Label1', 'Label2']\n",
    "train = all_data[~all_data['is_test']].copy(deep=True)\n",
    "test = all_data[all_data['is_test']].copy(deep=True)\n",
    "test['is_train'] = False\n",
    "train['is_train'] = True\n",
    "data = pd.concat([train, test]).reset_index(drop=True)\n",
    "del all_data\n",
    "gc.collect()\n",
    "\n",
    "for f in features:\n",
    "    data[f] = data[f].fillna(method='ffill')"
   ],
   "metadata": {
    "collapsed": false,
    "pycharm": {
     "name": "#%%\n"
    }
   }
  },
  {
   "cell_type": "markdown",
   "source": [
    "# 提取特征的diff值"
   ],
   "metadata": {
    "collapsed": false,
    "pycharm": {
     "name": "#%% md\n"
    }
   }
  },
  {
   "cell_type": "code",
   "execution_count": 5,
   "outputs": [],
   "source": [
    "# tmp_features = list(features)\n",
    "# add_dict = {}\n",
    "# for f in tmp_features:\n",
    "#     data[f'{f}_diff']  = data[f].shift()\n",
    "#     features.append(f'{f}_diff')\n"
   ],
   "metadata": {
    "collapsed": false,
    "pycharm": {
     "name": "#%%\n"
    }
   }
  },
  {
   "cell_type": "code",
   "execution_count": 6,
   "outputs": [],
   "source": [
    "# fff = ['MCCS_NO3', 'B_HYC_NH4','N_HYC_NH4']\n",
    "# for f in features:\n",
    "#     data[f] = data[f].fillna(method='ffill')\n",
    "# for i in range(len(fff)-1):\n",
    "#     for j in range(i+1, len(fff)):\n",
    "#         f1 = features[i]\n",
    "#         f2 = features[j]\n",
    "#         # feature_jian = f\"{f1}_{f2}_jian\"\n",
    "#         feature_radio = f\"{f1}_{f2}_radio\"\n",
    "#         data[feature_radio] = data[f1]/data[f2]\n",
    "#         # data[feature_jian] = data[f1]-data[f2]\n",
    "#         features.append(feature_radio)\n",
    "#         # features.append(feature_jian)"
   ],
   "metadata": {
    "collapsed": false,
    "pycharm": {
     "name": "#%%\n"
    }
   }
  },
  {
   "cell_type": "code",
   "execution_count": 7,
   "outputs": [],
   "source": [
    "df_list = []\n",
    "i = 0\n",
    "add_featuers = []\n",
    "length = 0\n",
    "for f in ['JS_NH3', 'CS_TN', 'JS_LL', 'JS_COD', 'CS_COD', 'B_HYC_NH4', 'B_HYC_XD', 'B_HYC_MLSS', 'B_HYC_JS_DO', 'B_HYC_DO', 'B_CS_MQ_SSLL',\n",
    "          'N_HYC_NH4', 'N_HYC_XD', 'N_HYC_MLSS', 'N_HYC_DO', 'N_CS_MQ_SSLL', 'N_QY_ORP']:\n",
    "    for r in [15]:\n",
    "        train_rolling = data[f].rolling(window=r, center=False)\n",
    "        f_mean_name = 'rolling{}_{}_mean'.format(r,f)\n",
    "        f_max_name = 'rolling{}_{}_max'.format(r,f)\n",
    "        f_min_name = 'rolling{}_{}_min'.format(r,f)\n",
    "        f_std_name = 'rolling{}_{}_std'.format(r,f)\n",
    "        f_corr_name = 'rolling{}_{}_corr'.format(r,f)\n",
    "        data[f_mean_name] = train_rolling.mean().fillna(0).values\n",
    "        data[f_max_name] = train_rolling.max().fillna(0).values\n",
    "        data[f_min_name] = train_rolling.min().fillna(0).values\n",
    "        data[f_std_name] = train_rolling.std().fillna(0).values\n",
    "        data[f_corr_name] =  train_rolling.corr().fillna(0).values\n",
    "        data[f'{f}_{f_mean_name}_cha'] = data[f] - data[f_mean_name]\n",
    "        data[f'{f}_{f_max_name}_cha'] = data[f] - data[f_max_name]\n",
    "        data[f'{f}_{f_min_name}_cha'] = data[f] - data[f_min_name]\n",
    "\n",
    "        if i == 0:\n",
    "            add_featuers.append(f_mean_name)\n",
    "            add_featuers.append(f_max_name)\n",
    "            add_featuers.append(f_min_name)\n",
    "            add_featuers.append(f_std_name)\n",
    "            add_featuers.append(f_corr_name)\n",
    "            add_featuers.append(f'{f}_{f_mean_name}_cha')\n",
    "            add_featuers.append(f'{f}_{f_max_name}_cha')\n",
    "            add_featuers.append(f'{f}_{f_min_name}_cha')\n",
    "\n",
    "    # for r in [5]:\n",
    "    #     train_rolling = data[f].shift(15).rolling(window=r, center=False)\n",
    "    #     f_mean_name = 'shift_rolling{}_{}_mean'.format(r,f)\n",
    "    #     f_max_name = 'shift_rolling{}_{}_max'.format(r,f)\n",
    "    #     f_min_name = 'shift_rolling{}_{}_min'.format(r,f)\n",
    "    #     f_std_name = 'shift_rolling{}_{}_std'.format(r,f)\n",
    "    #     data[f_mean_name] = train_rolling.mean().fillna(0).values\n",
    "    #     data[f_max_name] = train_rolling.max().fillna(0).values\n",
    "    #     data[f_min_name] = train_rolling.min().fillna(0).values\n",
    "    #     data[f_std_name] = train_rolling.std().fillna(0).values\n",
    "    #     data[f'shift_{f}_{f_mean_name}_cha'] = data[f] - data[f_mean_name]\n",
    "    #     data[f'shift_{f}_{f_max_name}_cha'] = data[f] - data[f_max_name]\n",
    "    #     data[f'shift_{f}_{f_min_name}_cha'] = data[f] - data[f_min_name]\n",
    "    #\n",
    "    #     if i == 0:\n",
    "    #         add_featuers.append(f_mean_name)\n",
    "    #         add_featuers.append(f_max_name)\n",
    "    #         add_featuers.append(f_min_name)\n",
    "    #         add_featuers.append(f_std_name)\n",
    "    #         add_featuers.append(f'shift_{f}_{f_mean_name}_cha')\n",
    "    #         add_featuers.append(f'shift_{f}_{f_max_name}_cha')\n",
    "    #         add_featuers.append(f'shift_{f}_{f_min_name}_cha')\n",
    "features.extend(add_featuers)\n",
    "\n",
    "# 对所有的特征进行划分\n",
    "for f in features:\n",
    "    if f not in ['weekday','hour', 'ts']:\n",
    "        q = len(data[f].drop_duplicates())\n",
    "        data[f] = pd.qcut(data[f], q=int(q/10), labels=False, duplicates=\"drop\")\n",
    "\n",
    "train = data[data['is_train']].reset_index(drop=True)\n",
    "test = data[~data['is_train']].reset_index(drop=True)"
   ],
   "metadata": {
    "collapsed": false,
    "pycharm": {
     "name": "#%%\n"
    }
   }
  },
  {
   "cell_type": "markdown",
   "source": [
    "# 删除分布不均衡的特征"
   ],
   "metadata": {
    "collapsed": false,
    "pycharm": {
     "name": "#%% md\n"
    }
   }
  },
  {
   "cell_type": "code",
   "execution_count": 8,
   "outputs": [],
   "source": [
    "train = train.dropna(subset=['Label1', 'Label2']).reset_index(drop=True)\n",
    "def transform(x: pd.Series, c=20):\n",
    "    return np.log1p(x/c)\n",
    "\n",
    "def inverse_transform(x: pd.Series, c = 20):\n",
    "    return np.expm1(x)*c\n",
    "\n",
    "train = train.dropna(subset=['Label1', 'Label2']).reset_index(drop=True)\n",
    "train['Label1'] = transform(train['Label1'])\n",
    "label_c = 8\n",
    "train['Label2'] = transform(train['Label2'], c=label_c)"
   ],
   "metadata": {
    "collapsed": false,
    "pycharm": {
     "name": "#%%\n"
    }
   }
  },
  {
   "cell_type": "code",
   "execution_count": 9,
   "outputs": [
    {
     "name": "stdout",
     "output_type": "stream",
     "text": [
      "35068\n",
      "8.729723218012834 4.510461075505404\n",
      "[09:34:50] WARNING: C:/Users/administrator/workspace/xgboost-win64_release_1.6.0/src/learner.cc:627: \n",
      "Parameters: { \"bagging_seed\", \"feature_fraction\", \"min_sum_hessian_in_leaf\" } might not be used.\n",
      "\n",
      "  This could be a false alarm, with some parameters getting used by language bindings but\n",
      "  then being mistakenly passed down to XGBoost core, or some parameter actually being used\n",
      "  but getting flagged wrongly here. Please open an issue if you find any such cases.\n",
      "\n",
      "\n",
      "[0]\tvalidation_0-mae:6.09050\tvalidation_1-mae:6.03036\n",
      "[200]\tvalidation_0-mae:0.04053\tvalidation_1-mae:0.07703\n",
      "[298]\tvalidation_0-mae:0.03594\tvalidation_1-mae:0.07985\n",
      "score_list = [1100.2393784152046]\n",
      "[09:34:54] WARNING: C:/Users/administrator/workspace/xgboost-win64_release_1.6.0/src/learner.cc:627: \n",
      "Parameters: { \"bagging_seed\", \"feature_fraction\", \"min_sum_hessian_in_leaf\" } might not be used.\n",
      "\n",
      "  This could be a false alarm, with some parameters getting used by language bindings but\n",
      "  then being mistakenly passed down to XGBoost core, or some parameter actually being used\n",
      "  but getting flagged wrongly here. Please open an issue if you find any such cases.\n",
      "\n",
      "\n",
      "35068\n",
      "8.106907231653508 3.731088486252612\n",
      "[09:34:55] WARNING: C:/Users/administrator/workspace/xgboost-win64_release_1.6.0/src/learner.cc:627: \n",
      "Parameters: { \"bagging_seed\", \"boosting\", \"feature_fraction\", \"min_sum_hessian_in_leaf\" } might not be used.\n",
      "\n",
      "  This could be a false alarm, with some parameters getting used by language bindings but\n",
      "  then being mistakenly passed down to XGBoost core, or some parameter actually being used\n",
      "  but getting flagged wrongly here. Please open an issue if you find any such cases.\n",
      "\n",
      "\n",
      "[0]\tvalidation_0-mae:5.93585\tvalidation_1-mae:5.88105\n",
      "[200]\tvalidation_0-mae:0.79769\tvalidation_1-mae:0.78487\n",
      "[400]\tvalidation_0-mae:0.11957\tvalidation_1-mae:0.11849\n",
      "[600]\tvalidation_0-mae:0.06510\tvalidation_1-mae:0.08678\n",
      "[800]\tvalidation_0-mae:0.05958\tvalidation_1-mae:0.08589\n",
      "[1000]\tvalidation_0-mae:0.05641\tvalidation_1-mae:0.08522\n",
      "[1200]\tvalidation_0-mae:0.05387\tvalidation_1-mae:0.08491\n",
      "[1400]\tvalidation_0-mae:0.05184\tvalidation_1-mae:0.08451\n",
      "[1600]\tvalidation_0-mae:0.05010\tvalidation_1-mae:0.08399\n",
      "[1800]\tvalidation_0-mae:0.04846\tvalidation_1-mae:0.08368\n",
      "[2000]\tvalidation_0-mae:0.04708\tvalidation_1-mae:0.08340\n",
      "[2200]\tvalidation_0-mae:0.04582\tvalidation_1-mae:0.08305\n",
      "[2400]\tvalidation_0-mae:0.04467\tvalidation_1-mae:0.08270\n",
      "[2600]\tvalidation_0-mae:0.04366\tvalidation_1-mae:0.08241\n",
      "[2800]\tvalidation_0-mae:0.04271\tvalidation_1-mae:0.08228\n",
      "[3000]\tvalidation_0-mae:0.04185\tvalidation_1-mae:0.08214\n",
      "[3200]\tvalidation_0-mae:0.04102\tvalidation_1-mae:0.08191\n",
      "[3400]\tvalidation_0-mae:0.04028\tvalidation_1-mae:0.08167\n",
      "[3600]\tvalidation_0-mae:0.03960\tvalidation_1-mae:0.08152\n",
      "[3800]\tvalidation_0-mae:0.03893\tvalidation_1-mae:0.08142\n",
      "[4000]\tvalidation_0-mae:0.03832\tvalidation_1-mae:0.08132\n",
      "[4200]\tvalidation_0-mae:0.03774\tvalidation_1-mae:0.08124\n",
      "[4400]\tvalidation_0-mae:0.03720\tvalidation_1-mae:0.08117\n",
      "[4600]\tvalidation_0-mae:0.03669\tvalidation_1-mae:0.08112\n",
      "[4800]\tvalidation_0-mae:0.03619\tvalidation_1-mae:0.08107\n",
      "[5000]\tvalidation_0-mae:0.03573\tvalidation_1-mae:0.08100\n",
      "[5200]\tvalidation_0-mae:0.03529\tvalidation_1-mae:0.08094\n",
      "[5400]\tvalidation_0-mae:0.03486\tvalidation_1-mae:0.08090\n",
      "[5600]\tvalidation_0-mae:0.03445\tvalidation_1-mae:0.08086\n",
      "[5800]\tvalidation_0-mae:0.03404\tvalidation_1-mae:0.08084\n",
      "[6000]\tvalidation_0-mae:0.03366\tvalidation_1-mae:0.08081\n",
      "[6200]\tvalidation_0-mae:0.03330\tvalidation_1-mae:0.08078\n",
      "[6307]\tvalidation_0-mae:0.03312\tvalidation_1-mae:0.08077\n",
      "score_list = [1100.2393784152046, 1323.6212177976188]\n",
      "[09:35:35] WARNING: C:/Users/administrator/workspace/xgboost-win64_release_1.6.0/src/learner.cc:627: \n",
      "Parameters: { \"bagging_seed\", \"boosting\", \"feature_fraction\", \"min_sum_hessian_in_leaf\" } might not be used.\n",
      "\n",
      "  This could be a false alarm, with some parameters getting used by language bindings but\n",
      "  then being mistakenly passed down to XGBoost core, or some parameter actually being used\n",
      "  but getting flagged wrongly here. Please open an issue if you find any such cases.\n",
      "\n",
      "\n"
     ]
    }
   ],
   "source": [
    "import xgboost as xgb\n",
    "from sklearn.metrics import mean_squared_error\n",
    "score_list = []\n",
    "for label in labels:\n",
    "    train[label] = train[label].fillna(0)\n",
    "    tmp = train[~train[label].isna()].reset_index(drop=True).copy(deep=True)\n",
    "    print(len(tmp))\n",
    "    print(np.max(tmp[label]), np.min(tmp[label]))\n",
    "    test_size = 4000\n",
    "    X_train = tmp[features][:-test_size]\n",
    "    X_test = tmp[features][-test_size:]\n",
    "    y_train = tmp[label][:-test_size]\n",
    "    y_test = tmp[label][-test_size:]\n",
    "    if label == \"Label1\":\n",
    "        model = xgb.XGBRegressor(\n",
    "            max_bin=200,\n",
    "            boosting=\"gbdt\",\n",
    "            max_depth=4,\n",
    "            learning_rate=0.01,\n",
    "            n_estimators=10000,\n",
    "            min_child_weight=2,\n",
    "            subsample = 0.8,\n",
    "            feature_fraction=0.3,\n",
    "            bagging_seed=1,\n",
    "            reg_alpha=1,\n",
    "            reg_lambda=1,  # 此处不改了\n",
    "            min_sum_hessian_in_leaf=0.01,\n",
    "            gpu_id=0,\n",
    "            tree_method='gpu_hist',\n",
    "            random_state=1850\n",
    "        )\n",
    "        model.fit(X_train, y_train, eval_set=[(X_train, y_train), (X_test, y_test)], eval_metric=['mae'],\n",
    "              early_stopping_rounds=150, verbose=200)\n",
    "\n",
    "        test_pred = model.predict(X_test)\n",
    "        score_list.append(np.sqrt(mean_squared_error(inverse_transform(y_test), inverse_transform(test_pred))))\n",
    "        print(f\"score_list = {score_list}\")\n",
    "        model2 = xgb.XGBRegressor(\n",
    "            max_bin=200,\n",
    "            boosting=\"gbdt\",\n",
    "            max_depth=4,\n",
    "            learning_rate=0.01,\n",
    "            n_estimators=int(1.2*model.best_iteration),\n",
    "            min_child_weight=2,\n",
    "            subsample = 0.8,\n",
    "            feature_fraction=0.3,\n",
    "            bagging_seed=1,\n",
    "            reg_alpha=1,\n",
    "            reg_lambda=1,  # 此处不改了\n",
    "            min_sum_hessian_in_leaf=0.01,\n",
    "            gpu_id=0,\n",
    "            tree_method='gpu_hist',\n",
    "            random_state=1850\n",
    "        )\n",
    "        model2.fit(tmp[features], tmp[label])\n",
    "        test[label] = inverse_transform(model2.predict(test[features]))\n",
    "    else:\n",
    "        model = xgb.XGBRegressor(\n",
    "            max_depth=5,\n",
    "            learning_rate=0.1,\n",
    "            n_estimators=10000,\n",
    "            min_child_weight=1,\n",
    "            subsample = 0.4,\n",
    "            feature_fraction=0.3,\n",
    "            bagging_seed=1,\n",
    "            reg_alpha=0.1,\n",
    "            reg_lambda=0.1,  # 此处不改了\n",
    "            min_sum_hessian_in_leaf=0.01,\n",
    "            gpu_id=0,\n",
    "            tree_method='gpu_hist',\n",
    "            random_state=1850\n",
    "        )\n",
    "\n",
    "        model.fit(X_train, y_train, eval_set=[(X_train, y_train), (X_test, y_test)], eval_metric=['mae'],\n",
    "              early_stopping_rounds=150, verbose=200)\n",
    "        test_pred = model.predict(X_test)\n",
    "        score_list.append(np.sqrt(mean_squared_error(inverse_transform(y_test, c=label_c), inverse_transform(test_pred, c=label_c))))\n",
    "        print(f\"score_list = {score_list}\")\n",
    "        model2 = xgb.XGBRegressor(\n",
    "            max_depth=5,\n",
    "            learning_rate=0.1,\n",
    "            n_estimators=int(1.2*model.best_iteration),\n",
    "            min_child_weight=1,\n",
    "            subsample = 0.4,\n",
    "            feature_fraction=0.3,\n",
    "            bagging_seed=0.1,\n",
    "            reg_alpha=0.1,\n",
    "            reg_lambda=0.1,  # 此处不改了\n",
    "            min_sum_hessian_in_leaf=0.01,\n",
    "            gpu_id=0,\n",
    "            tree_method='gpu_hist',\n",
    "            random_state=1850\n",
    "        )\n",
    "        model2.fit(tmp[features], tmp[label])\n",
    "\n",
    "        test[label] = inverse_transform(model2.predict(test[features]), c=label_c)"
   ],
   "metadata": {
    "collapsed": false,
    "pycharm": {
     "name": "#%%\n"
    }
   }
  },
  {
   "cell_type": "code",
   "execution_count": 10,
   "outputs": [
    {
     "name": "stdout",
     "output_type": "stream",
     "text": [
      "0.8244496831855618\n"
     ]
    }
   ],
   "source": [
    "loss = np.mean(score_list)\n",
    "score = 1000/(1+loss)\n",
    "print(score)"
   ],
   "metadata": {
    "collapsed": false,
    "pycharm": {
     "name": "#%%\n"
    }
   }
  },
  {
   "cell_type": "code",
   "execution_count": 11,
   "outputs": [],
   "source": [
    "test[['time'] + labels].to_csv(f\"./res/xgboost_res.csv\", index=False)"
   ],
   "metadata": {
    "collapsed": false,
    "pycharm": {
     "name": "#%%\n"
    }
   }
  },
  {
   "cell_type": "code",
   "execution_count": 11,
   "outputs": [],
   "source": [],
   "metadata": {
    "collapsed": false,
    "pycharm": {
     "name": "#%%\n"
    }
   }
  }
 ],
 "metadata": {
  "kernelspec": {
   "display_name": "Python 3",
   "language": "python",
   "name": "python3"
  },
  "language_info": {
   "codemirror_mode": {
    "name": "ipython",
    "version": 2
   },
   "file_extension": ".py",
   "mimetype": "text/x-python",
   "name": "python",
   "nbconvert_exporter": "python",
   "pygments_lexer": "ipython2",
   "version": "2.7.6"
  }
 },
 "nbformat": 4,
 "nbformat_minor": 0
}