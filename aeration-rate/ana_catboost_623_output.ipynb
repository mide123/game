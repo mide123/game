{
 "cells": [
  {
   "cell_type": "code",
   "execution_count": 27,
   "metadata": {
    "collapsed": true
   },
   "outputs": [],
   "source": [
    "import pandas as pd\n",
    "import numpy as np"
   ]
  },
  {
   "cell_type": "code",
   "execution_count": 28,
   "outputs": [],
   "source": [
    "data = pd.read_csv(\"./data/train_dataset.csv\")\n",
    "\n",
    "data['is_train'] = True\n",
    "evaluation = pd.read_csv(\"./data/evaluation_public.csv\")\n",
    "evaluation['is_train'] = False\n",
    "sample = pd.read_csv(\"./data/sample_submission.csv\")\n",
    "\n",
    "data = pd.concat([data, evaluation]).reset_index(drop=True)"
   ],
   "metadata": {
    "collapsed": false,
    "pycharm": {
     "name": "#%%\n"
    }
   }
  },
  {
   "cell_type": "markdown",
   "source": [
    "# 特征处理"
   ],
   "metadata": {
    "collapsed": false,
    "pycharm": {
     "name": "#%% md\n"
    }
   }
  },
  {
   "cell_type": "code",
   "execution_count": 29,
   "outputs": [],
   "source": [
    "data['date'] = pd.to_datetime(data['time'])\n",
    "data['hour'] = data['date'].dt.hour\n",
    "data['year'] = data['date'].dt.year\n",
    "data['month'] = data['date'].dt.month\n",
    "data['minute'] = data['date'].dt.minute\n",
    "data['weekday'] = data['date'].dt.weekday\n",
    "data['day'] = data['date'].dt.day\n",
    "data['hour'] = data['date'].dt.hour\n",
    "data['ts'] = data['hour']*3600 + data['minute']*60 + data['date'].dt.second"
   ],
   "metadata": {
    "collapsed": false,
    "pycharm": {
     "name": "#%%\n"
    }
   }
  },
  {
   "cell_type": "code",
   "execution_count": 30,
   "outputs": [],
   "source": [
    "import gc\n",
    "features = [ 'JS_NH3', 'CS_NH3', 'JS_TN', 'CS_TN', 'JS_LL', 'CS_LL', 'MCCS_NH4', 'MCCS_NO3', 'JS_COD', 'CS_COD', 'JS_SW', 'CS_SW', 'B_HYC_NH4', 'B_HYC_XD', 'B_HYC_MLSS', 'B_HYC_JS_DO', 'B_HYC_DO', 'B_CS_MQ_SSLL', 'B_QY_ORP', 'N_HYC_NH4', 'N_HYC_XD', 'N_HYC_MLSS', 'N_HYC_JS_DO', 'N_HYC_DO', 'N_CS_MQ_SSLL', 'N_QY_ORP','weekday','hour', 'ts']\n",
    "features = [f for f in features if f not in ['time', 'Label1', 'Label2','CS_LL','CS_NH3', 'JS_SW']] #\n",
    "\n",
    "for f in features:\n",
    "    data[f] = data[f].fillna(method='ffill')"
   ],
   "metadata": {
    "collapsed": false,
    "pycharm": {
     "name": "#%%\n"
    }
   }
  },
  {
   "cell_type": "markdown",
   "source": [
    "# 提取特征的diff值"
   ],
   "metadata": {
    "collapsed": false,
    "pycharm": {
     "name": "#%% md\n"
    }
   }
  },
  {
   "cell_type": "code",
   "execution_count": 31,
   "outputs": [
    {
     "name": "stderr",
     "output_type": "stream",
     "text": [
      "C:\\Users\\38125\\AppData\\Local\\Temp/ipykernel_26280/3366026233.py:27: PerformanceWarning: DataFrame is highly fragmented.  This is usually the result of calling `frame.insert` many times, which has poor performance.  Consider joining all columns at once using pd.concat(axis=1) instead.  To get a de-fragmented frame, use `newframe = frame.copy()`\n",
      "  data[f'{f}_diff'] = data[f].diff()\n",
      "C:\\Users\\38125\\AppData\\Local\\Temp/ipykernel_26280/3366026233.py:17: PerformanceWarning: DataFrame is highly fragmented.  This is usually the result of calling `frame.insert` many times, which has poor performance.  Consider joining all columns at once using pd.concat(axis=1) instead.  To get a de-fragmented frame, use `newframe = frame.copy()`\n",
      "  data[f_mean_name] = train_rolling.mean().fillna(0).values\n",
      "C:\\Users\\38125\\AppData\\Local\\Temp/ipykernel_26280/3366026233.py:18: PerformanceWarning: DataFrame is highly fragmented.  This is usually the result of calling `frame.insert` many times, which has poor performance.  Consider joining all columns at once using pd.concat(axis=1) instead.  To get a de-fragmented frame, use `newframe = frame.copy()`\n",
      "  data[f_max_name] = train_rolling.max().fillna(0).values\n",
      "C:\\Users\\38125\\AppData\\Local\\Temp/ipykernel_26280/3366026233.py:19: PerformanceWarning: DataFrame is highly fragmented.  This is usually the result of calling `frame.insert` many times, which has poor performance.  Consider joining all columns at once using pd.concat(axis=1) instead.  To get a de-fragmented frame, use `newframe = frame.copy()`\n",
      "  data[f_min_name] = train_rolling.min().fillna(0).values\n",
      "C:\\Users\\38125\\AppData\\Local\\Temp/ipykernel_26280/3366026233.py:20: PerformanceWarning: DataFrame is highly fragmented.  This is usually the result of calling `frame.insert` many times, which has poor performance.  Consider joining all columns at once using pd.concat(axis=1) instead.  To get a de-fragmented frame, use `newframe = frame.copy()`\n",
      "  data[f_std_name] = train_rolling.std().fillna(0).values\n",
      "C:\\Users\\38125\\AppData\\Local\\Temp/ipykernel_26280/3366026233.py:21: PerformanceWarning: DataFrame is highly fragmented.  This is usually the result of calling `frame.insert` many times, which has poor performance.  Consider joining all columns at once using pd.concat(axis=1) instead.  To get a de-fragmented frame, use `newframe = frame.copy()`\n",
      "  data[f_corr_name] = train_rolling.corr().fillna(0).values\n",
      "C:\\Users\\38125\\AppData\\Local\\Temp/ipykernel_26280/3366026233.py:22: PerformanceWarning: DataFrame is highly fragmented.  This is usually the result of calling `frame.insert` many times, which has poor performance.  Consider joining all columns at once using pd.concat(axis=1) instead.  To get a de-fragmented frame, use `newframe = frame.copy()`\n",
      "  data[f_skew_name] = train_rolling.skew().fillna(0).values\n",
      "C:\\Users\\38125\\AppData\\Local\\Temp/ipykernel_26280/3366026233.py:24: PerformanceWarning: DataFrame is highly fragmented.  This is usually the result of calling `frame.insert` many times, which has poor performance.  Consider joining all columns at once using pd.concat(axis=1) instead.  To get a de-fragmented frame, use `newframe = frame.copy()`\n",
      "  data[f'{f}_{f_mean_name}_cha'] = data[f] - data[f_mean_name]\n",
      "C:\\Users\\38125\\AppData\\Local\\Temp/ipykernel_26280/3366026233.py:25: PerformanceWarning: DataFrame is highly fragmented.  This is usually the result of calling `frame.insert` many times, which has poor performance.  Consider joining all columns at once using pd.concat(axis=1) instead.  To get a de-fragmented frame, use `newframe = frame.copy()`\n",
      "  data[f'{f}_{f_max_name}_cha'] = data[f] - data[f_max_name]\n",
      "C:\\Users\\38125\\AppData\\Local\\Temp/ipykernel_26280/3366026233.py:26: PerformanceWarning: DataFrame is highly fragmented.  This is usually the result of calling `frame.insert` many times, which has poor performance.  Consider joining all columns at once using pd.concat(axis=1) instead.  To get a de-fragmented frame, use `newframe = frame.copy()`\n",
      "  data[f'{f}_{f_min_name}_cha'] = data[f] - data[f_min_name]\n"
     ]
    }
   ],
   "source": [
    "df_list = []\n",
    "i = 0\n",
    "add_featuers = []\n",
    "length = 0\n",
    "for f in ['JS_NH3', 'CS_TN', 'JS_LL', 'JS_COD', 'CS_COD', 'B_HYC_NH4', 'B_HYC_XD', 'B_HYC_MLSS', 'B_HYC_JS_DO', 'B_HYC_DO', 'B_CS_MQ_SSLL',\n",
    "          'N_HYC_NH4', 'N_HYC_XD', 'N_HYC_MLSS', 'N_HYC_DO', 'N_CS_MQ_SSLL', 'N_QY_ORP']:\n",
    "    for r in [15]:\n",
    "        train_rolling = data[f].rolling(window=r, center=False)\n",
    "        f_mean_name = 'rolling{}_{}_mean'.format(r,f)\n",
    "        f_max_name = 'rolling{}_{}_max'.format(r,f)\n",
    "        f_min_name = 'rolling{}_{}_min'.format(r,f)\n",
    "        f_std_name = 'rolling{}_{}_std'.format(r,f)\n",
    "        f_corr_name = 'rolling{}_{}_corr'.format(r,f)\n",
    "        f_cov_name = 'rolling{}_{}_cov'.format(r,f)\n",
    "        f_skew_name = 'rolling{}_{}_skew'.format(r,f)\n",
    "        f_kurt_name = 'rolling{}_{}_kurt'.format(r,f)\n",
    "        data[f_mean_name] = train_rolling.mean().fillna(0).values\n",
    "        data[f_max_name] = train_rolling.max().fillna(0).values\n",
    "        data[f_min_name] = train_rolling.min().fillna(0).values\n",
    "        data[f_std_name] = train_rolling.std().fillna(0).values\n",
    "        data[f_corr_name] = train_rolling.corr().fillna(0).values\n",
    "        data[f_skew_name] = train_rolling.skew().fillna(0).values\n",
    "\n",
    "        data[f'{f}_{f_mean_name}_cha'] = data[f] - data[f_mean_name]\n",
    "        data[f'{f}_{f_max_name}_cha'] = data[f] - data[f_max_name]\n",
    "        data[f'{f}_{f_min_name}_cha'] = data[f] - data[f_min_name]\n",
    "        data[f'{f}_diff'] = data[f].diff()\n",
    "        if i == 0:\n",
    "            add_featuers.append(f_mean_name)\n",
    "            add_featuers.append(f_max_name)\n",
    "            add_featuers.append(f_min_name)\n",
    "            add_featuers.append(f_std_name)\n",
    "            add_featuers.append(f_corr_name)\n",
    "            add_featuers.append(f_skew_name)\n",
    "            add_featuers.append(f'{f}_{f_mean_name}_cha')\n",
    "            add_featuers.append(f'{f}_{f_max_name}_cha')\n",
    "            add_featuers.append(f'{f}_{f_min_name}_cha')\n",
    "            add_featuers.append(f'{f}_diff')\n",
    "features.extend(add_featuers)\n",
    "\n",
    "# 对所有的特征进行划分\n",
    "for f in features:\n",
    "    if f not in ['weekday','hour', 'ts']:\n",
    "        q = len(data[f].drop_duplicates())\n",
    "        data[f] = pd.qcut(data[f], q=int(q/10), labels=False, duplicates=\"drop\")\n",
    "\n",
    "all_train = data[data['is_train']].reset_index(drop=True)\n",
    "test = data[~data['is_train']].reset_index(drop=True)"
   ],
   "metadata": {
    "collapsed": false,
    "pycharm": {
     "name": "#%%\n"
    }
   }
  },
  {
   "cell_type": "markdown",
   "source": [
    "# 删除分布不均衡的特征"
   ],
   "metadata": {
    "collapsed": false,
    "pycharm": {
     "name": "#%% md\n"
    }
   }
  },
  {
   "cell_type": "code",
   "execution_count": 32,
   "outputs": [],
   "source": [
    "all_train = all_train.dropna(subset=['Label1', 'Label2']).reset_index(drop=True)\n",
    "def transform(x: pd.Series, c=20):\n",
    "    return np.log1p(x/c)\n",
    "\n",
    "def inverse_transform(x: pd.Series, c = 20):\n",
    "    return np.expm1(x)*c\n",
    "\n",
    "all_train = all_train.dropna(subset=['Label1', 'Label2']).reset_index(drop=True)\n",
    "all_train['Label1'] = transform(all_train['Label1'])\n",
    "label_c = 8\n",
    "all_train['Label2'] = transform(all_train['Label2'], c=label_c)"
   ],
   "metadata": {
    "collapsed": false,
    "pycharm": {
     "name": "#%%\n"
    }
   }
  },
  {
   "cell_type": "code",
   "execution_count": 33,
   "outputs": [],
   "source": [
    "# inverse_transform(pd.Series([6,6.1]))"
   ],
   "metadata": {
    "collapsed": false,
    "pycharm": {
     "name": "#%%\n"
    }
   }
  },
  {
   "cell_type": "code",
   "execution_count": 33,
   "outputs": [],
   "source": [],
   "metadata": {
    "collapsed": false,
    "pycharm": {
     "name": "#%%\n"
    }
   }
  },
  {
   "cell_type": "markdown",
   "source": [
    "# 伪标签进行预测"
   ],
   "metadata": {
    "collapsed": false,
    "pycharm": {
     "name": "#%% md\n"
    }
   }
  },
  {
   "cell_type": "code",
   "execution_count": 34,
   "outputs": [
    {
     "name": "stderr",
     "output_type": "stream",
     "text": [
      "Custom logger is already specified. Specify more than one logger at same time is not thread safe."
     ]
    },
    {
     "name": "stdout",
     "output_type": "stream",
     "text": [
      "0:\tlearn: 0.2918059\ttest: 0.2918059\ttest1: 0.1768811\tbest: 0.1768811 (0)\ttotal: 9.35ms\tremaining: 7m 47s\n",
      "200:\tlearn: 0.0945039\ttest: 0.0945039\ttest1: 0.1051219\tbest: 0.1051219 (200)\ttotal: 2.8s\tremaining: 11m 33s\n",
      "400:\tlearn: 0.0785016\ttest: 0.0785016\ttest1: 0.1005100\tbest: 0.1005100 (400)\ttotal: 5.58s\tremaining: 11m 29s\n",
      "600:\tlearn: 0.0683097\ttest: 0.0683097\ttest1: 0.0986885\tbest: 0.0986885 (600)\ttotal: 8.3s\tremaining: 11m 22s\n",
      "800:\tlearn: 0.0615103\ttest: 0.0615103\ttest1: 0.0981172\tbest: 0.0981138 (798)\ttotal: 11s\tremaining: 11m 14s\n",
      "1000:\tlearn: 0.0565514\ttest: 0.0565514\ttest1: 0.0976066\tbest: 0.0976011 (999)\ttotal: 13.7s\tremaining: 11m 9s\n",
      "1200:\tlearn: 0.0526072\ttest: 0.0526072\ttest1: 0.0973019\tbest: 0.0971779 (1193)\ttotal: 16.7s\tremaining: 11m 19s\n",
      "1400:\tlearn: 0.0494637\ttest: 0.0494637\ttest1: 0.0971701\tbest: 0.0971590 (1282)\ttotal: 19.6s\tremaining: 11m 18s\n",
      "Stopped by overfitting detector  (150 iterations wait)\n",
      "\n",
      "bestTest = 0.09711914332\n",
      "bestIteration = 1443\n",
      "\n",
      "Shrink model to first 1444 iterations.\n",
      "score_list1 = [1266.9437921977303]\n",
      "0:\tlearn: 0.2811136\ttotal: 25.2ms\tremaining: 43.6s\n",
      "200:\tlearn: 0.0946191\ttotal: 2.81s\tremaining: 21.4s\n",
      "400:\tlearn: 0.0797010\ttotal: 5.55s\tremaining: 18.4s\n",
      "600:\tlearn: 0.0701749\ttotal: 8.25s\tremaining: 15.5s\n",
      "800:\tlearn: 0.0639716\ttotal: 11.4s\tremaining: 13.3s\n",
      "1000:\tlearn: 0.0595089\ttotal: 14.5s\tremaining: 10.6s\n",
      "1200:\tlearn: 0.0560651\ttotal: 17.1s\tremaining: 7.55s\n",
      "1400:\tlearn: 0.0531500\ttotal: 19.8s\tremaining: 4.66s\n",
      "1600:\tlearn: 0.0507260\ttotal: 22.4s\tremaining: 1.81s\n",
      "1730:\tlearn: 0.0493786\ttotal: 24s\tremaining: 0us\n",
      "0:\tlearn: 0.2733455\ttest: 0.2733455\ttest1: 0.1797396\tbest: 0.1797396 (0)\ttotal: 32.5ms\tremaining: 27m 4s\n",
      "200:\tlearn: 0.0921638\ttest: 0.0921638\ttest1: 0.0986136\tbest: 0.0986136 (200)\ttotal: 2.26s\tremaining: 9m 20s\n",
      "400:\tlearn: 0.0762064\ttest: 0.0762064\ttest1: 0.0954898\tbest: 0.0954898 (400)\ttotal: 4.5s\tremaining: 9m 17s\n",
      "600:\tlearn: 0.0663635\ttest: 0.0663635\ttest1: 0.0948486\tbest: 0.0948194 (599)\ttotal: 6.77s\tremaining: 9m 16s\n",
      "800:\tlearn: 0.0599326\ttest: 0.0599326\ttest1: 0.0942040\tbest: 0.0941891 (799)\ttotal: 8.96s\tremaining: 9m 10s\n",
      "1000:\tlearn: 0.0555184\ttest: 0.0555184\ttest1: 0.0939637\tbest: 0.0939317 (965)\ttotal: 11.2s\tremaining: 9m 8s\n",
      "1200:\tlearn: 0.0518457\ttest: 0.0518457\ttest1: 0.0939437\tbest: 0.0938720 (1070)\ttotal: 13.6s\tremaining: 9m 11s\n",
      "Stopped by overfitting detector  (150 iterations wait)\n",
      "\n",
      "bestTest = 0.09387198302\n",
      "bestIteration = 1070\n",
      "\n",
      "Shrink model to first 1071 iterations.\n",
      "score_list2 = [1266.9437921977303, 1055.7887372616008]\n",
      "0:\tlearn: 0.2642734\ttotal: 8.58ms\tremaining: 11s\n",
      "200:\tlearn: 0.0932868\ttotal: 2.21s\tremaining: 11.9s\n",
      "400:\tlearn: 0.0792537\ttotal: 4.34s\tremaining: 9.57s\n",
      "600:\tlearn: 0.0699082\ttotal: 6.65s\tremaining: 7.56s\n",
      "800:\tlearn: 0.0640936\ttotal: 8.99s\tremaining: 5.42s\n",
      "1000:\tlearn: 0.0597306\ttotal: 11.5s\tremaining: 3.25s\n",
      "1200:\tlearn: 0.0562587\ttotal: 14.3s\tremaining: 990ms\n",
      "1283:\tlearn: 0.0551348\ttotal: 15.3s\tremaining: 0us\n",
      "0.8603140252290207\n"
     ]
    }
   ],
   "source": [
    "import lightgbm as lgb\n",
    "import catboost as cbt\n",
    "from sklearn.metrics import mean_squared_error\n",
    "labels = ['Label1','Label2']\n",
    "score_list = []\n",
    "test_size = 4000\n",
    "\n",
    "for label in labels:\n",
    "    X_train = all_train[features][:-test_size]\n",
    "    y_train = all_train[label][:-test_size]\n",
    "\n",
    "    X_test = all_train[features][-test_size:]\n",
    "    y_test = all_train[label][-test_size:]\n",
    "    if label == \"Label1\":\n",
    "        model = cbt.CatBoostRegressor(\n",
    "            depth=7,\n",
    "            learning_rate=0.03,\n",
    "            l2_leaf_reg=1,\n",
    "            early_stopping_rounds=100,\n",
    "            num_trees=50000,\n",
    "            min_data_in_leaf=5,\n",
    "            subsample = 0.5,\n",
    "            colsample_bylevel  = 0.3,\n",
    "            border_count=128,\n",
    "            random_seed=1212\n",
    "        )\n",
    "        model.fit(X_train, y_train, eval_set=[(X_train, y_train), (X_test, y_test)],\n",
    "              early_stopping_rounds=150, verbose=200)\n",
    "        test_pred = model.predict(X_test)\n",
    "\n",
    "        score_list.append(np.sqrt(mean_squared_error(inverse_transform(y_test), inverse_transform(test_pred))))\n",
    "        print(f\"score_list1 = {score_list}\")\n",
    "        #\n",
    "        model2 = cbt.CatBoostRegressor(\n",
    "            depth=7,\n",
    "            learning_rate=0.03,\n",
    "            l2_leaf_reg=1,\n",
    "            early_stopping_rounds=100,\n",
    "            num_trees=int(1.2*model.best_iteration_),\n",
    "            min_data_in_leaf=5,\n",
    "            subsample = 0.5,\n",
    "            colsample_bylevel  = 0.3,\n",
    "            border_count=128,\n",
    "            random_seed=1212\n",
    "        )\n",
    "        model2.fit(all_train[features], all_train[label], verbose=200)\n",
    "        test[label] = inverse_transform(model2.predict(test[features]))\n",
    "    else:\n",
    "        model = cbt.CatBoostRegressor(\n",
    "            depth=7,\n",
    "            learning_rate=0.03,\n",
    "            l2_leaf_reg=1,\n",
    "            early_stopping_rounds=100,\n",
    "            num_trees=50000,\n",
    "            min_data_in_leaf=5,\n",
    "            subsample = 0.4,\n",
    "            colsample_bylevel  = 0.2,\n",
    "            border_count=160,\n",
    "            random_seed=1212\n",
    "        )\n",
    "\n",
    "        model.fit(X_train, y_train, eval_set=[(X_train, y_train), (X_test, y_test)],\n",
    "              early_stopping_rounds=150, verbose=200)\n",
    "        test_pred = model.predict(X_test)\n",
    "        score_list.append(np.sqrt(mean_squared_error(inverse_transform(y_test, c=label_c), inverse_transform(test_pred, c=label_c))))\n",
    "        print(f\"score_list2 = {score_list}\")\n",
    "        #\n",
    "        model2 = cbt.CatBoostRegressor(\n",
    "            depth=7,\n",
    "            learning_rate=0.03,\n",
    "            l2_leaf_reg=1,\n",
    "            early_stopping_rounds=100,\n",
    "            num_trees=int(1.2*model.best_iteration_),\n",
    "            min_data_in_leaf=5,\n",
    "            subsample = 0.4,\n",
    "            colsample_bylevel  = 0.2,\n",
    "            border_count=160,\n",
    "            random_seed=1212\n",
    "        )\n",
    "        model2.fit(all_train[features], all_train[label], verbose=200)\n",
    "        #\n",
    "        test[label] = inverse_transform(model2.predict(test[features]), c=label_c)\n",
    "loss = np.mean(score_list)\n",
    "score = 1000/(1+loss)\n",
    "print(score)"
   ],
   "metadata": {
    "collapsed": false,
    "pycharm": {
     "name": "#%%\n"
    }
   }
  },
  {
   "cell_type": "code",
   "execution_count": 35,
   "outputs": [
    {
     "name": "stdout",
     "output_type": "stream",
     "text": [
      "0.8603140252290207\n"
     ]
    }
   ],
   "source": [
    "loss = np.mean(score_list)\n",
    "score = 1000/(1+loss)\n",
    "print(score)"
   ],
   "metadata": {
    "collapsed": false,
    "pycharm": {
     "name": "#%%\n"
    }
   }
  },
  {
   "cell_type": "code",
   "execution_count": 36,
   "outputs": [],
   "source": [
    "test[['time'] + labels].to_csv(f\"./res/catboost_res.csv\", index=False)"
   ],
   "metadata": {
    "collapsed": false,
    "pycharm": {
     "name": "#%%\n"
    }
   }
  },
  {
   "cell_type": "code",
   "execution_count": 36,
   "outputs": [],
   "source": [],
   "metadata": {
    "collapsed": false,
    "pycharm": {
     "name": "#%%\n"
    }
   }
  }
 ],
 "metadata": {
  "kernelspec": {
   "display_name": "Python 3",
   "language": "python",
   "name": "python3"
  },
  "language_info": {
   "codemirror_mode": {
    "name": "ipython",
    "version": 2
   },
   "file_extension": ".py",
   "mimetype": "text/x-python",
   "name": "python",
   "nbconvert_exporter": "python",
   "pygments_lexer": "ipython2",
   "version": "2.7.6"
  }
 },
 "nbformat": 4,
 "nbformat_minor": 0
}